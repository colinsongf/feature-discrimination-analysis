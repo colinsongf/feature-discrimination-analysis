{
 "metadata": {
  "name": "",
  "signature": "sha256:87363b1d032720d13015164fd3eacbf17823bbc9652d13363ca135c22385e228"
 },
 "nbformat": 3,
 "nbformat_minor": 0,
 "worksheets": [
  {
   "cells": [
    {
     "cell_type": "code",
     "collapsed": false,
     "input": [
      "##This code generates the trial orderings for the fMRI experiment\n",
      "\n",
      "import os\n",
      "import numpy as np\n",
      "import glob\n",
      "import csv\n",
      "import matplotlib\n",
      "import matplotlib.pyplot as plt\n",
      "import pandas as pd\n",
      "from scipy import stats, optimize\n",
      "from pandas import DataFrame, Series\n",
      "import seaborn as sns\n",
      "import random as rd\n",
      "from statsmodels.formula.api import ols\n",
      "from statsmodels.stats.anova import anova_lm\n",
      "import scipy.stats\n"
     ],
     "language": "python",
     "metadata": {},
     "outputs": [],
     "prompt_number": 5
    },
    {
     "cell_type": "code",
     "collapsed": false,
     "input": [
      "%matplotlib inline"
     ],
     "language": "python",
     "metadata": {},
     "outputs": [],
     "prompt_number": 6
    },
    {
     "cell_type": "code",
     "collapsed": false,
     "input": [
      "##set up tral order for serial condition\n",
      "\n",
      "num_trials = 11\n",
      "num_switch = 2 ##not including last switch\n",
      "\n",
      "##set up cond counterbalance. Last 4 trials are all switch\n",
      "cond_list = [1,3,4,6]\n",
      "rd.shuffle(cond_list)\n",
      "cond=[]\n",
      "for i in range(0,num_trials - 1):\n",
      "    cond.extend(cond_list)\n",
      "rd.shuffle(cond)\n",
      "cond.extend(cond_list)\n",
      "\n",
      "##add in the ITI trials\n",
      "trial_order=[]\n",
      "for i in range(0,len(cond)):\n",
      "    if cond[i] == 1: #ser fp +\n",
      "        trial_order.extend([cond[i],2,10])\n",
      "    elif cond[i] == 4: #ser fn \n",
      "        trial_order.extend([cond[i],5,10])\n",
      "    else:\n",
      "        trial_order.extend([cond[i],10])\n",
      "\n",
      "trial_order = np.array(trial_order)\n",
      "\n",
      "##set up reward trials\n",
      "rew_trial = np.zeros(len(trial_order))\n",
      "cond_list = [1,2,3,4,5,6]\n",
      "for c in cond_list:\n",
      "    if c==2 or c==6: #rewarded trials\n",
      "        indices = np.where(trial_order==c)[-1]\n",
      "        indices = np.delete(indices, len(indices)-1) ##drop last index\n",
      "        for i in range(0,num_switch): ##drop num_switch of the indices\n",
      "            rd.shuffle(indices)\n",
      "            indices = np.delete(indices, len(indices)-1)\n",
      "        rew_trial[indices] = 1\n",
      "    elif c==3 or c==5: #nonrewarded trials\n",
      "        indices = np.where(trial_order==c)[-1]\n",
      "        rew_indices = []\n",
      "        rew_indices.extend(indices[-1:])\n",
      "        indices = np.delete(indices, len(indices)-1) ##delete entry to avoid repeats\n",
      "        for i in range(0,num_switch): #add num_switch of the indices\n",
      "            rd.shuffle(indices)\n",
      "            rew_indices.extend(indices[-1:])\n",
      "            indices = np.delete(indices, len(indices)-1) ##delete entry to avoid repeats\n",
      "        rew_trial[rew_indices] = 1\n",
      "\n",
      "print rew_trial[np.where(trial_order == 1)[-1]]\n",
      "print rew_trial[np.where(trial_order == 2)[-1]]\n",
      "print rew_trial[np.where(trial_order == 3)[-1]]\n",
      "print rew_trial[np.where(trial_order == 4)[-1]]\n",
      "print rew_trial[np.where(trial_order == 5)[-1]]\n",
      "print rew_trial[np.where(trial_order == 6)[-1]]\n",
      "\n",
      "print rew_trial.astype('int').tolist()\n",
      "print trial_order.tolist()\n",
      "print cond"
     ],
     "language": "python",
     "metadata": {},
     "outputs": [
      {
       "output_type": "stream",
       "stream": "stdout",
       "text": [
        "[ 0.  0.  0.  0.  0.  0.  0.  0.  0.  0.  0.]\n",
        "[ 1.  1.  1.  0.  1.  1.  1.  1.  1.  0.  0.]\n",
        "[ 0.  0.  0.  0.  0.  1.  0.  0.  0.  1.  1.]\n",
        "[ 0.  0.  0.  0.  0.  0.  0.  0.  0.  0.  0.]\n",
        "[ 0.  0.  0.  0.  0.  1.  0.  1.  0.  0.  1.]\n",
        "[ 1.  1.  1.  1.  1.  1.  1.  0.  1.  0.  0.]\n",
        "[0, 0, 0, 1, 0, 0, 0, 0, 0, 1, 0, 0, 1, 0, 0, 0, 0, 0, 0, 0, 0, 0, 1, 0, 1, 0, 1, 0, 1, 0, 0, 0, 1, 0, 0, 0, 0, 1, 0, 0, 0, 0, 0, 0, 1, 0, 0, 1, 0, 0, 0, 0, 0, 0, 0, 0, 0, 0, 0, 1, 0, 0, 1, 0, 0, 0, 1, 0, 0, 0, 0, 1, 0, 0, 1, 0, 0, 1, 0, 0, 0, 0, 1, 0, 0, 1, 0, 0, 0, 0, 0, 0, 0, 0, 0, 0, 1, 0, 0, 0, 0, 0, 0, 1, 0, 1, 0, 0, 0, 0]\n",
        "[4, 5, 10, 6, 10, 4, 5, 10, 1, 2, 10, 1, 2, 10, 4, 5, 10, 4, 5, 10, 3, 10, 6, 10, 6, 10, 6, 10, 6, 10, 3, 10, 6, 10, 3, 10, 1, 2, 10, 4, 5, 10, 3, 10, 6, 10, 4, 5, 10, 6, 10, 4, 5, 10, 3, 10, 1, 2, 10, 3, 10, 4, 5, 10, 3, 10, 6, 10, 3, 10, 1, 2, 10, 1, 2, 10, 1, 2, 10, 3, 10, 1, 2, 10, 1, 2, 10, 1, 2, 10, 4, 5, 10, 4, 5, 10, 3, 10, 6, 10, 6, 10, 4, 5, 10, 3, 10, 1, 2, 10]\n",
        "[4, 6, 4, 1, 1, 4, 4, 3, 6, 6, 6, 6, 3, 6, 3, 1, 4, 3, 6, 4, 6, 4, 3, 1, 3, 4, 3, 6, 3, 1, 1, 1, 3, 1, 1, 1, 4, 4, 3, 6, 6, 4, 3, 1]\n"
       ]
      }
     ],
     "prompt_number": 7
    },
    {
     "cell_type": "code",
     "collapsed": false,
     "input": [
      "##set up tral order for simultaneous condition\n",
      "\n",
      "num_trials = 11\n",
      "num_switch = 2\n",
      "\n",
      "##set up cond counterbalance. Last 4 trials are all switch\n",
      "cond_list = [1,2,3,4]\n",
      "rd.shuffle(cond_list)\n",
      "cond=[]\n",
      "for i in range(0,num_trials - 1):\n",
      "    cond.extend(cond_list)\n",
      "rd.shuffle(cond)\n",
      "cond.extend(cond_list)\n",
      "\n",
      "##add in the ITI trials\n",
      "trial_order=[]\n",
      "for i in range(0,len(cond)):\n",
      "    trial_order.extend([cond[i],10])\n",
      "trial_order = np.array(trial_order)\n",
      "\n",
      "##set up reward trials\n",
      "rew_trial = np.zeros(len(trial_order))\n",
      "for c in cond_list:\n",
      "    if c==1 or c==4: #rewarded trials\n",
      "        indices = np.where(trial_order==c)[-1]\n",
      "        indices = np.delete(indices, len(indices)-1) ##drop last index\n",
      "        for i in range(0,num_switch): ##drop num_switch of the indices\n",
      "            rd.shuffle(indices)\n",
      "            indices = np.delete(indices, len(indices)-1)\n",
      "        rew_trial[indices] = 1\n",
      "    else: #nonrewarded trials\n",
      "        indices = np.where(trial_order==c)[-1]\n",
      "        rew_indices = []\n",
      "        rew_indices.extend(indices[-1:])\n",
      "        indices = np.delete(indices, len(indices)-1) ##delete entry to avoid repeats\n",
      "        for i in range(0,num_switch): #add num_switch of the indices\n",
      "            rd.shuffle(indices)\n",
      "            rew_indices.extend(indices[-1:])\n",
      "            indices = np.delete(indices, len(indices)-1) ##delete entry to avoid repeats\n",
      "        rew_trial[rew_indices] = 1\n",
      "\n",
      "print rew_trial.astype('int').tolist()\n",
      "print trial_order.tolist()\n",
      "print cond"
     ],
     "language": "python",
     "metadata": {},
     "outputs": [
      {
       "output_type": "stream",
       "stream": "stdout",
       "text": [
        "[1, 0, 1, 0, 0, 0, 1, 0, 1, 0, 1, 0, 0, 0, 0, 0, 1, 0, 0, 0, 0, 0, 1, 0, 1, 0, 0, 0, 1, 0, 0, 0, 0, 0, 0, 0, 0, 0, 1, 0, 1, 0, 0, 0, 1, 0, 0, 0, 0, 0, 1, 0, 0, 0, 0, 0, 0, 0, 0, 0, 1, 0, 1, 0, 0, 0, 1, 0, 1, 0, 0, 0, 1, 0, 1, 0, 1, 0, 0, 0, 1, 0, 0, 0, 1, 0, 0, 0]\n",
        "[4, 10, 1, 10, 3, 10, 1, 10, 4, 10, 4, 10, 2, 10, 1, 10, 1, 10, 2, 10, 3, 10, 1, 10, 4, 10, 1, 10, 1, 10, 4, 10, 2, 10, 3, 10, 3, 10, 2, 10, 3, 10, 2, 10, 4, 10, 4, 10, 3, 10, 1, 10, 3, 10, 3, 10, 2, 10, 3, 10, 4, 10, 2, 10, 2, 10, 4, 10, 4, 10, 2, 10, 1, 10, 3, 10, 1, 10, 2, 10, 2, 10, 4, 10, 3, 10, 1, 10]\n",
        "[4, 1, 3, 1, 4, 4, 2, 1, 1, 2, 3, 1, 4, 1, 1, 4, 2, 3, 3, 2, 3, 2, 4, 4, 3, 1, 3, 3, 2, 3, 4, 2, 2, 4, 4, 2, 1, 3, 1, 2, 2, 4, 3, 1]\n"
       ]
      }
     ],
     "prompt_number": 8
    },
    {
     "cell_type": "code",
     "collapsed": false,
     "input": [],
     "language": "python",
     "metadata": {},
     "outputs": []
    }
   ],
   "metadata": {}
  }
 ]
}