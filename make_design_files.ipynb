{
 "cells": [
  {
   "cell_type": "code",
   "execution_count": 2,
   "metadata": {
    "collapsed": true
   },
   "outputs": [],
   "source": [
    "#os and i/o\n",
    "import os\n",
    "import numpy as np\n",
    "import glob\n",
    "from os.path import abspath\n",
    "import csv\n",
    "\n",
    "#scientific computing\n",
    "import matplotlib\n",
    "import matplotlib.pyplot as plt\n",
    "import pandas as pd\n",
    "from scipy import stats, optimize\n",
    "from pandas import DataFrame, Series\n",
    "import seaborn as sns\n",
    "import random as rd\n",
    "from statsmodels.formula.api import ols\n",
    "from statsmodels.stats.anova import anova_lm\n",
    "import scipy.stats\n",
    "\n",
    "import nibabel as nib"
   ]
  },
  {
   "cell_type": "markdown",
   "metadata": {},
   "source": [
    "Makes design files for the ser, loc, and sim experiments"
   ]
  },
  {
   "cell_type": "code",
   "execution_count": 3,
   "metadata": {
    "collapsed": false
   },
   "outputs": [
    {
     "name": "stdout",
     "output_type": "stream",
     "text": [
      "/home/iballard/Dropbox/fd\n"
     ]
    }
   ],
   "source": [
    "#preliminary stuff\n",
    "home_dir = '/data/home/iballard/fd/'\n",
    "data_dir = os.path.abspath('../')\n",
    "\n",
    "event_dur = 0 #duration for all events\n",
    "\n",
    "#get subject list\n",
    "subjects = list(np.loadtxt(data_dir+ '/subjects.txt',str))\n",
    "print data_dir"
   ]
  },
  {
   "cell_type": "markdown",
   "metadata": {},
   "source": [
    "LOCALIZER"
   ]
  },
  {
   "cell_type": "code",
   "execution_count": 3,
   "metadata": {
    "collapsed": false
   },
   "outputs": [],
   "source": [
    "##get timing file for object localizer\n",
    "def load_timing_file(run,time_to_drop):\n",
    "    loc_file = home_dir + '/loc_timing/script_kidLoc_2Hz_run' + str(run)\n",
    "    trial_type = []\n",
    "    time = []\n",
    "    with open(loc_file) as f:\n",
    "        for n,line in enumerate(f):\n",
    "            l = line.strip('\\n').split('\\t')\n",
    "            if len(l)==5: #ignore file header and footer\n",
    "                trial_type.append(int(l[2]))\n",
    "                time.append(float(l[1]) - time_to_drop)\n",
    "    return trial_type, time"
   ]
  },
  {
   "cell_type": "code",
   "execution_count": 4,
   "metadata": {
    "collapsed": false
   },
   "outputs": [],
   "source": [
    "#trial type dictionary for object localizer\n",
    "# def trial_type_dict():\n",
    "#     return {0:'scramble', 1:'face-adult', 2:'face-child', 3:'body', 4:'limb', 5:'car',\n",
    "#             6:'guitar', 7:'place', 8:'house', 9:'word', 10:'number'}\n",
    "def trial_type_dict():\n",
    "    return {0:'scramble', 1:'face', 2:'face', 3:'body', 4:'body', 5:'object',\n",
    "            6:'object', 7:'place', 8:'place', 9:'character', 10:'character'}"
   ]
  },
  {
   "cell_type": "code",
   "execution_count": 5,
   "metadata": {
    "collapsed": false
   },
   "outputs": [],
   "source": [
    "def write_loc_file(design_dir,cb):\n",
    "    \n",
    "    time_to_drop = -3\n",
    "    trial_dict = trial_type_dict()\n",
    "    duration = 4 #all blocks are 4s\n",
    "    \n",
    "    #set up run counterbalance\n",
    "    if cb==1:\n",
    "        run_dict = {1: '1', 2:'2'}\n",
    "    else:\n",
    "        run_dict = {1: '2', 2:'1'}\n",
    "    \n",
    "    #prepare out file\n",
    "    out_file = design_dir + 'loc.csv'\n",
    "    if os.path.exists(out_file):\n",
    "        os.remove(out_file)\n",
    "    out_f = open(out_file,'w')\n",
    "    out_f.write('run,condition,onset,duration\\n')\n",
    "    for run in range(1,3):\n",
    "        trial_type, time = load_timing_file(run,time_to_drop)\n",
    "\n",
    "        #write out file\n",
    "        for n,trial in enumerate(trial_type):\n",
    "            if n > 0 and trial != trial_type[n-1]: #start of a new trial\n",
    "                if trial_dict[trial] != 'scramble': #not a condition\n",
    "                    new_line = ','.join([run_dict[run],trial_dict[trial],str(time[n]),str(4)+'\\n'])\n",
    "                    out_f.write(new_line)\n",
    "    out_f.close()\n",
    "    return"
   ]
  },
  {
   "cell_type": "code",
   "execution_count": 6,
   "metadata": {
    "collapsed": false
   },
   "outputs": [],
   "source": [
    "#write output\n",
    "for sub in sub_list:\n",
    "    design_dir = home_dir + 'data/' + sub + '/design/' #make design folder\n",
    "    if not os.path.exists(design_dir):\n",
    "        os.makedirs(design_dir)\n",
    "    \n",
    "    #write file\n",
    "    write_loc_file(design_dir, sub_to_cb[sub])"
   ]
  },
  {
   "cell_type": "markdown",
   "metadata": {},
   "source": [
    "Genereic code for both the SIM and SER experiments (processing log files, etc)"
   ]
  },
  {
   "cell_type": "code",
   "execution_count": 29,
   "metadata": {
    "collapsed": true
   },
   "outputs": [],
   "source": [
    "##read in timing info and correct for missing data\n",
    "timing_info = pd.read_csv(data_dir + '/timing_info.csv', index_col =0)\n",
    "\n",
    "#no run 1 of scanning data for fd_127\n",
    "timing_info.loc[(timing_info['sub']=='fd_127') & (timing_info['run']==1),'run'] = 0\n",
    "timing_info.loc[(timing_info['sub']=='fd_127') & (timing_info['run']==2),'run'] = 1\n",
    "timing_info.loc[(timing_info['sub']=='fd_127') & (timing_info['run']==3),'run'] = 2\n",
    "\n",
    "#no run 2 of scanning data for sim condition fd_133\n",
    "timing_info.loc[(timing_info['sub']=='fd_127') & (timing_info['exp']=='sim') & \\\n",
    "                (timing_info['run']==2),'run'] = 0\n",
    "timing_info.loc[(timing_info['sub']=='fd_127') & (timing_info['exp']=='sim') & \\\n",
    "                (timing_info['run']==3),'run'] = 2\n",
    "\n",
    "\n",
    "timing_info = timing_info[timing_info['run'] != 0]"
   ]
  },
  {
   "cell_type": "code",
   "execution_count": 30,
   "metadata": {
    "collapsed": false
   },
   "outputs": [
    {
     "name": "stderr",
     "output_type": "stream",
     "text": [
      "/home/iballard/.local/lib/python2.7/site-packages/pandas/core/indexing.py:411: SettingWithCopyWarning: \n",
      "A value is trying to be set on a copy of a slice from a DataFrame.\n",
      "Try using .loc[row_indexer,col_indexer] = value instead\n",
      "\n",
      "See the the caveats in the documentation: http://pandas.pydata.org/pandas-docs/stable/indexing.html#indexing-view-versus-copy\n",
      "  self.obj[item] = s\n"
     ]
    }
   ],
   "source": [
    "##adjust by the numher of frames to drop\n",
    "time_to_drop = 9.0 #number of seconds of scans to drop\n",
    "timing_info['onset'] = timing_info['onset'] - time_to_drop\n",
    "timing_info = timing_info.sort(['exp','sub','run','condition','onset'])\n",
    "\n",
    "#add value columns\n",
    "timing_info['value'] = 1\n",
    "\n",
    "for exp in ['sim','ser']:\n",
    "    for sub in subjects:\n",
    "                    \n",
    "        design_dir = home_dir + 'data/' + sub + '/design/'\n",
    "        out_file = design_dir + exp + '_PE.csv'\n",
    "\n",
    "        timing = timing_info[(timing_info['exp']==exp) & (timing_info['sub'] == sub)]\n",
    "\n",
    "\n",
    "        ##rename fb by positive or negative valence\n",
    "        timing.loc[timing['feedback_valence']==1,'condition'] = 'feedback_pos'\n",
    "        timing.loc[timing['feedback_valence']==-1,'condition'] = 'feedback_neg'\n",
    "\n",
    "        #write out main regressors\n",
    "        timing.to_csv(out_file,index = False, columns = ['run','condition','onset',\n",
    "                                             'duration','value'])\n",
    "\n",
    "        ##fill out parametric regressors\n",
    "        timing = timing.fillna(0) \n",
    "        timing['value'] = timing['PE']\n",
    "\n",
    "        #drop regressors that dont have parametric effects\n",
    "        timing = timing[timing['condition']!='A'] #no parametric value for A\n",
    "        timing = timing[timing['condition']!='feedback_pos'] #no parametric value for A\n",
    "        timing = timing[timing['condition']!='feedback_neg'] #no parametric value for A\n",
    "\n",
    "        #rename the parametric regressors\n",
    "        timing.ix[timing['condition']=='b_plus','condition'] = 'b_plus_PE'\n",
    "        timing.ix[timing['condition']=='b_minus','condition'] = 'b_minus_PE'\n",
    "        timing.ix[timing['condition']=='c_plus','condition'] = 'c_plus_PE'\n",
    "        timing.ix[timing['condition']=='c_minus','condition'] = 'c_minus_PE'\n",
    "\n",
    "        #write out result\n",
    "        with open(out_file, 'a') as f:\n",
    "            timing.to_csv(f, header=False,index = False, columns = ['run','condition','onset',\n",
    "                                                         'duration','value'])"
   ]
  },
  {
   "cell_type": "code",
   "execution_count": 28,
   "metadata": {
    "collapsed": false
   },
   "outputs": [],
   "source": []
  },
  {
   "cell_type": "code",
   "execution_count": null,
   "metadata": {
    "collapsed": true
   },
   "outputs": [],
   "source": []
  }
 ],
 "metadata": {
  "kernelspec": {
   "display_name": "Python 2",
   "language": "python",
   "name": "python2"
  },
  "language_info": {
   "codemirror_mode": {
    "name": "ipython",
    "version": 2
   },
   "file_extension": ".py",
   "mimetype": "text/x-python",
   "name": "python",
   "nbconvert_exporter": "python",
   "pygments_lexer": "ipython2",
   "version": "2.7.6"
  }
 },
 "nbformat": 4,
 "nbformat_minor": 0
}
