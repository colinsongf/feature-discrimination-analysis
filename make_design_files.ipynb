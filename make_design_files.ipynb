{
 "cells": [
  {
   "cell_type": "code",
   "execution_count": 1,
   "metadata": {
    "collapsed": true
   },
   "outputs": [],
   "source": [
    "#os and i/o\n",
    "import os\n",
    "import numpy as np\n",
    "import glob\n",
    "from os.path import abspath\n",
    "import csv\n",
    "\n",
    "#scientific computing\n",
    "import matplotlib\n",
    "import matplotlib.pyplot as plt\n",
    "import pandas as pd\n",
    "from scipy import stats, optimize\n",
    "from pandas import DataFrame, Series\n",
    "import seaborn as sns\n",
    "import random as rd\n",
    "from statsmodels.formula.api import ols\n",
    "from statsmodels.stats.anova import anova_lm\n",
    "import scipy.stats\n",
    "\n",
    "import nibabel as nib"
   ]
  },
  {
   "cell_type": "markdown",
   "metadata": {},
   "source": [
    "Makes design files for the ser, loc, and sim experiments"
   ]
  },
  {
   "cell_type": "code",
   "execution_count": 2,
   "metadata": {
    "collapsed": false
   },
   "outputs": [
    {
     "name": "stdout",
     "output_type": "stream",
     "text": [
      "/home/iballard/Dropbox/fd\n"
     ]
    }
   ],
   "source": [
    "#preliminary stuff\n",
    "home_dir = '/data/home/iballard/fd/'\n",
    "data_dir = os.path.abspath('../')\n",
    "\n",
    "event_dur = 0 #duration for all events\n",
    "\n",
    "#get subject list\n",
    "subjects = list(np.loadtxt(data_dir+ '/subjects.txt',str))\n",
    "print data_dir"
   ]
  },
  {
   "cell_type": "markdown",
   "metadata": {},
   "source": [
    "LOCALIZER"
   ]
  },
  {
   "cell_type": "code",
   "execution_count": 3,
   "metadata": {
    "collapsed": false
   },
   "outputs": [],
   "source": [
    "##get timing file for object localizer\n",
    "def load_timing_file(run,time_to_drop):\n",
    "    loc_file = home_dir + '/loc_timing/script_kidLoc_2Hz_run' + str(run)\n",
    "    trial_type = []\n",
    "    time = []\n",
    "    with open(loc_file) as f:\n",
    "        for n,line in enumerate(f):\n",
    "            l = line.strip('\\n').split('\\t')\n",
    "            if len(l)==5: #ignore file header and footer\n",
    "                trial_type.append(int(l[2]))\n",
    "                time.append(float(l[1]) - time_to_drop)\n",
    "    return trial_type, time"
   ]
  },
  {
   "cell_type": "code",
   "execution_count": 4,
   "metadata": {
    "collapsed": false
   },
   "outputs": [],
   "source": [
    "#trial type dictionary for object localizer\n",
    "# def trial_type_dict():\n",
    "#     return {0:'scramble', 1:'face-adult', 2:'face-child', 3:'body', 4:'limb', 5:'car',\n",
    "#             6:'guitar', 7:'place', 8:'house', 9:'word', 10:'number'}\n",
    "def trial_type_dict():\n",
    "    return {0:'scramble', 1:'face', 2:'face', 3:'body', 4:'body', 5:'object',\n",
    "            6:'object', 7:'place', 8:'place', 9:'character', 10:'character'}"
   ]
  },
  {
   "cell_type": "code",
   "execution_count": 5,
   "metadata": {
    "collapsed": false
   },
   "outputs": [],
   "source": [
    "def write_loc_file(design_dir,cb):\n",
    "    \n",
    "    time_to_drop = -3\n",
    "    trial_dict = trial_type_dict()\n",
    "    duration = 4 #all blocks are 4s\n",
    "    \n",
    "    #set up run counterbalance\n",
    "    if cb==1:\n",
    "        run_dict = {1: '1', 2:'2'}\n",
    "    else:\n",
    "        run_dict = {1: '2', 2:'1'}\n",
    "    \n",
    "    #prepare out file\n",
    "    out_file = design_dir + 'loc.csv'\n",
    "    if os.path.exists(out_file):\n",
    "        os.remove(out_file)\n",
    "    out_f = open(out_file,'w')\n",
    "    out_f.write('run,condition,onset,duration\\n')\n",
    "    for run in range(1,3):\n",
    "        trial_type, time = load_timing_file(run,time_to_drop)\n",
    "\n",
    "        #write out file\n",
    "        for n,trial in enumerate(trial_type):\n",
    "            if n > 0 and trial != trial_type[n-1]: #start of a new trial\n",
    "                if trial_dict[trial] != 'scramble': #not a condition\n",
    "                    new_line = ','.join([run_dict[run],trial_dict[trial],str(time[n]),str(4)+'\\n'])\n",
    "                    out_f.write(new_line)\n",
    "    out_f.close()\n",
    "    return"
   ]
  },
  {
   "cell_type": "code",
   "execution_count": 6,
   "metadata": {
    "collapsed": false
   },
   "outputs": [
    {
     "ename": "NameError",
     "evalue": "name 'sub_list' is not defined",
     "output_type": "error",
     "traceback": [
      "\u001b[0;31m---------------------------------------------------------------------------\u001b[0m",
      "\u001b[0;31mNameError\u001b[0m                                 Traceback (most recent call last)",
      "\u001b[0;32m<ipython-input-6-d061c73d0638>\u001b[0m in \u001b[0;36m<module>\u001b[0;34m()\u001b[0m\n\u001b[1;32m      1\u001b[0m \u001b[0;31m#write output\u001b[0m\u001b[0;34m\u001b[0m\u001b[0;34m\u001b[0m\u001b[0m\n\u001b[0;32m----> 2\u001b[0;31m \u001b[0;32mfor\u001b[0m \u001b[0msub\u001b[0m \u001b[0;32min\u001b[0m \u001b[0msub_list\u001b[0m\u001b[0;34m:\u001b[0m\u001b[0;34m\u001b[0m\u001b[0m\n\u001b[0m\u001b[1;32m      3\u001b[0m     \u001b[0mdesign_dir\u001b[0m \u001b[0;34m=\u001b[0m \u001b[0mhome_dir\u001b[0m \u001b[0;34m+\u001b[0m \u001b[0;34m'data/'\u001b[0m \u001b[0;34m+\u001b[0m \u001b[0msub\u001b[0m \u001b[0;34m+\u001b[0m \u001b[0;34m'/design/'\u001b[0m \u001b[0;31m#make design folder\u001b[0m\u001b[0;34m\u001b[0m\u001b[0m\n\u001b[1;32m      4\u001b[0m     \u001b[0;32mif\u001b[0m \u001b[0;32mnot\u001b[0m \u001b[0mos\u001b[0m\u001b[0;34m.\u001b[0m\u001b[0mpath\u001b[0m\u001b[0;34m.\u001b[0m\u001b[0mexists\u001b[0m\u001b[0;34m(\u001b[0m\u001b[0mdesign_dir\u001b[0m\u001b[0;34m)\u001b[0m\u001b[0;34m:\u001b[0m\u001b[0;34m\u001b[0m\u001b[0m\n\u001b[1;32m      5\u001b[0m         \u001b[0mos\u001b[0m\u001b[0;34m.\u001b[0m\u001b[0mmakedirs\u001b[0m\u001b[0;34m(\u001b[0m\u001b[0mdesign_dir\u001b[0m\u001b[0;34m)\u001b[0m\u001b[0;34m\u001b[0m\u001b[0m\n",
      "\u001b[0;31mNameError\u001b[0m: name 'sub_list' is not defined"
     ]
    }
   ],
   "source": [
    "#write output\n",
    "for sub in sub_list:\n",
    "    design_dir = home_dir + 'data/' + sub + '/design/' #make design folder\n",
    "    if not os.path.exists(design_dir):\n",
    "        os.makedirs(design_dir)\n",
    "    \n",
    "    #write file\n",
    "    write_loc_file(design_dir, sub_to_cb[sub])"
   ]
  },
  {
   "cell_type": "markdown",
   "metadata": {},
   "source": [
    "Genereic code for both the SIM and SER experiments (processing log files, etc)"
   ]
  },
  {
   "cell_type": "code",
   "execution_count": 15,
   "metadata": {
    "collapsed": false
   },
   "outputs": [],
   "source": [
    "##read in timing info and prepare \n",
    "timing_info = pd.read_csv(data_dir + '/timing_info_PE_diff.csv', index_col =0)\n",
    "\n",
    "##correct for missing data\n",
    "#no run 1 of scanning data for fd_127\n",
    "timing_info.loc[(timing_info['sub']=='fd_127') & (timing_info['run']==1),'run'] = 0\n",
    "timing_info.loc[(timing_info['sub']=='fd_127') & (timing_info['run']==2),'run'] = 1\n",
    "timing_info.loc[(timing_info['sub']=='fd_127') & (timing_info['run']==3),'run'] = 2\n",
    "\n",
    "#no run 2 of scanning data for sim condition fd_133\n",
    "timing_info.loc[(timing_info['sub']=='fd_133') & (timing_info['exp']=='sim') & \\\n",
    "                (timing_info['run']==2),'run'] = 0\n",
    "timing_info.loc[(timing_info['sub']=='fd_133') & (timing_info['exp']=='sim') & \\\n",
    "                (timing_info['run']==3),'run'] = 2\n",
    "\n",
    "\n",
    "\n",
    "timing_info = timing_info[timing_info['run'] != 0]\n",
    "\n",
    "##adjust by the numher of frames to drop\n",
    "time_to_drop = 9.0 #number of seconds of scans to drop\n",
    "timing_info['onset'] = timing_info['onset'] - time_to_drop\n",
    "\n",
    "##sort\n",
    "timing_info = timing_info.sort(['exp','sub','run','condition','onset'])\n",
    "\n",
    "#add value columns\n",
    "timing_info['value'] = 1"
   ]
  },
  {
   "cell_type": "code",
   "execution_count": 11,
   "metadata": {
    "collapsed": false,
    "scrolled": true
   },
   "outputs": [
    {
     "name": "stdout",
     "output_type": "stream",
     "text": [
      "done\n"
     ]
    }
   ],
   "source": [
    "#write timing files\n",
    "diff = True\n",
    "for exp in ['sim','ser']:\n",
    "    for sub in subjects:\n",
    "        \n",
    "        design_dir = home_dir + 'data/' + sub + '/design/'\n",
    "        if not diff:\n",
    "            out_file = design_dir + exp + '_V.csv'\n",
    "        else:\n",
    "            out_file = design_dir + exp + '_V_diff.csv'\n",
    "\n",
    "        timing = timing_info[(timing_info['exp']==exp) & (timing_info['sub'] == sub)]\n",
    "\n",
    "        ##rename fb by positive or negative valence\n",
    "        timing.loc[timing['feedback_valence']==1,'condition'] = 'feedback_pos'\n",
    "        timing.loc[timing['feedback_valence']==-1,'condition'] = 'feedback_neg'\n",
    "\n",
    "        #write out main regressors\n",
    "        timing.to_csv(out_file,index = False, columns = ['run','condition','onset',\n",
    "                                             'duration','value'])\n",
    "\n",
    "        ##fill out parametric regressors\n",
    "        timing = timing.fillna(0) \n",
    "        timing['value'] = timing['V']\n",
    "\n",
    "        #drop regressors that dont have parametric effects\n",
    "        timing = timing[timing['condition']!='A'] #no parametric value for A\n",
    "        timing = timing[timing['condition']!='feedback_pos'] #no parametric value for A\n",
    "        timing = timing[timing['condition']!='feedback_neg'] #no parametric value for A\n",
    "\n",
    "        #rename the parametric regressors\n",
    "        timing.loc[timing['condition']=='b_plus','condition'] = 'b_plus_PE'\n",
    "        timing.loc[timing['condition']=='b_minus','condition'] = 'b_minus_PE'\n",
    "        timing.loc[timing['condition']=='c_plus','condition'] = 'c_plus_PE'\n",
    "        timing.loc[timing['condition']=='c_minus','condition'] = 'c_minus_PE'\n",
    "        #write out result\n",
    "        with open(out_file, 'a') as f:\n",
    "            timing.to_csv(f, header=False,index = False, columns = ['run','condition','onset',\n",
    "                                                         'duration','value'])\n",
    "\n",
    "        if diff:                    \n",
    "            #write out difference regressors\n",
    "            timing['value'] = timing['V_mb']\n",
    "            timing.loc[timing['condition']=='b_plus_PE','condition'] = 'b_plus_PE_diff'\n",
    "            timing.loc[timing['condition']=='b_minus_PE','condition'] = 'b_minus_PE_diff'\n",
    "            timing.loc[timing['condition']=='c_plus_PE','condition'] = 'c_plus_PE_diff'\n",
    "            timing.loc[timing['condition']=='c_minus_PE','condition'] = 'c_minus_PE_diff'\n",
    "            with open(out_file, 'a') as f:\n",
    "                timing.to_csv(f, header=False,index = False, columns = ['run','condition','onset',\n",
    "                                                             'duration','value'])\n",
    "\n",
    "print 'done'"
   ]
  },
  {
   "cell_type": "code",
   "execution_count": 32,
   "metadata": {
    "collapsed": false
   },
   "outputs": [
    {
     "name": "stdout",
     "output_type": "stream",
     "text": [
      "34\n"
     ]
    }
   ],
   "source": [
    "print len(subjects)"
   ]
  },
  {
   "cell_type": "code",
   "execution_count": null,
   "metadata": {
    "collapsed": false
   },
   "outputs": [],
   "source": []
  },
  {
   "cell_type": "code",
   "execution_count": 28,
   "metadata": {
    "collapsed": false
   },
   "outputs": [],
   "source": [
    "##write timing files for MVPA analysis\n",
    "#write timing files\n",
    "mvpa_dict = {'b_plus':'state','b_minus':'not','c_plus':'not','c_minus':'state'}\n",
    "for exp in ['sim','ser']:\n",
    "    for sub in subjects:\n",
    "        \n",
    "        design_dir = home_dir + 'data/' + sub + '/design/'\n",
    "        out_file = design_dir + exp + '_state.csv'\n",
    "\n",
    "        timing = timing_info[(timing_info['exp']==exp) & (timing_info['sub'] == sub)]\n",
    "\n",
    "        #drop regressors that dont \n",
    "        timing = timing[timing['condition']!='A'] #no parametric value for A\n",
    "        timing = timing[timing['condition']!='feedback'] #no parametric value for A\n",
    "\n",
    "        #get state values for each condition\n",
    "        state = map(lambda x: mvpa_dict[x], timing['condition'].values)    \n",
    "        timing['condition'] = state\n",
    "\n",
    "        #write to file\n",
    "        timing = timing.sort(['onset'])\n",
    "        timing.to_csv(out_file,index = False, columns = ['run','condition','onset',\n",
    "                                 'duration'])"
   ]
  },
  {
   "cell_type": "code",
   "execution_count": 43,
   "metadata": {
    "collapsed": false
   },
   "outputs": [],
   "source": [
    "#write design for PPI analysis\n",
    "#write timing files\n",
    "for exp in ['sim','ser']:\n",
    "    for sub in subjects:\n",
    "        \n",
    "        design_dir = home_dir + 'data/' + sub + '/design/'\n",
    "        out_file = design_dir + exp + '_ppi.csv'\n",
    "\n",
    "        timing = timing_info[(timing_info['exp']==exp) & (timing_info['sub'] == sub)]\n",
    "\n",
    "        ##rename fb by positive or negative valence\n",
    "        timing.loc[timing['feedback_valence']==1,'condition'] = 'feedback_pos'\n",
    "        timing.loc[timing['feedback_valence']==-1,'condition'] = 'feedback_neg'\n",
    "\n",
    "        #set contrast and rename vectors\n",
    "        timing.ix[timing['condition'] == 'b_minus','value'] = -1\n",
    "        timing.ix[timing['condition'] == 'c_plus','value'] = -1\n",
    "        timing.loc[timing['condition']=='b_plus','condition'] = 'state'\n",
    "        timing.loc[timing['condition']=='b_minus','condition'] = 'state'\n",
    "        timing.loc[timing['condition']=='c_plus','condition'] = 'state'\n",
    "        timing.loc[timing['condition']=='c_minus','condition'] = 'state'\n",
    "        \n",
    "        #write out main regressors\n",
    "        timing.to_csv(out_file,index = False, columns = ['run','condition','onset',\n",
    "                                             'duration','value'])\n",
    "        \n",
    "        #next write target regressor\n",
    "        \n",
    "        #reload data\n",
    "        timing = timing_info[(timing_info['exp']==exp) & (timing_info['sub'] == sub)]\n",
    "\n",
    "        #drop regressors that dont have parametric effects\n",
    "        timing = timing[timing['condition']!='A'] #no parametric value for A\n",
    "        timing = timing[timing['condition']!='feedback'] #no parametric value for A\n",
    "\n",
    "        #set contrast and rename vectors\n",
    "        timing.ix[timing['condition'] == 'b_minus','value'] = -1\n",
    "        timing.ix[timing['condition'] == 'c_minus','value'] = -1\n",
    "        timing.loc[timing['condition']=='b_plus','condition'] = 'target'\n",
    "        timing.loc[timing['condition']=='b_minus','condition'] = 'target'\n",
    "        timing.loc[timing['condition']=='c_plus','condition'] = 'target'\n",
    "        timing.loc[timing['condition']=='c_minus','condition'] = 'target'\n",
    "        with open(out_file, 'a') as f:\n",
    "            timing.to_csv(f, header=False,index = False, columns = ['run','condition','onset',\n",
    "                                                         'duration','value'])        \n",
    "        #write mean regressor\n",
    "        timing['value'] = 1\n",
    "        timing.loc[timing['condition']=='target','condition'] = 'mean'\n",
    "        with open(out_file, 'a') as f:\n",
    "            timing.to_csv(f, header=False,index = False, columns = ['run','condition','onset',\n",
    "                                                         'duration','value'])\n"
   ]
  },
  {
   "cell_type": "code",
   "execution_count": null,
   "metadata": {
    "collapsed": false
   },
   "outputs": [],
   "source": []
  },
  {
   "cell_type": "code",
   "execution_count": null,
   "metadata": {
    "collapsed": true
   },
   "outputs": [],
   "source": []
  }
 ],
 "metadata": {
  "kernelspec": {
   "display_name": "Python 2",
   "language": "python",
   "name": "python2"
  },
  "language_info": {
   "codemirror_mode": {
    "name": "ipython",
    "version": 2
   },
   "file_extension": ".py",
   "mimetype": "text/x-python",
   "name": "python",
   "nbconvert_exporter": "python",
   "pygments_lexer": "ipython2",
   "version": "2.7.6"
  }
 },
 "nbformat": 4,
 "nbformat_minor": 0
}
