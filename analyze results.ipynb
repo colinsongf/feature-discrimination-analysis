{
 "metadata": {
  "name": "",
  "signature": "sha256:e36fa2bb85b152462eff916206fef278446aae93bba5e7c4530e65cb674babbe"
 },
 "nbformat": 3,
 "nbformat_minor": 0,
 "worksheets": [
  {
   "cells": [
    {
     "cell_type": "code",
     "collapsed": false,
     "input": [
      "import os\n",
      "import numpy as np\n",
      "import glob\n",
      "import csv\n",
      "import matplotlib\n",
      "import matplotlib.pyplot as plt\n",
      "import pandas as pd\n",
      "from scipy import stats, optimize\n",
      "from pandas import DataFrame, Series\n",
      "import seaborn as sns\n",
      "import random"
     ],
     "language": "python",
     "metadata": {},
     "outputs": [],
     "prompt_number": 1
    },
    {
     "cell_type": "code",
     "collapsed": false,
     "input": [
      "%matplotlib inline"
     ],
     "language": "python",
     "metadata": {},
     "outputs": [],
     "prompt_number": 2
    },
    {
     "cell_type": "code",
     "collapsed": false,
     "input": [
      "##function for reading out data from log file\n",
      "def line_to_matrix(line):\n",
      "\tline = line.split('=')[1]\n",
      "\tline = line.split(',')\n",
      "\tline = map(float,line)\n",
      "\tline = np.array(line)\n",
      "\tnew_out = line.reshape(-1,5)\n",
      "\treturn new_out"
     ],
     "language": "python",
     "metadata": {},
     "outputs": [],
     "prompt_number": 3
    },
    {
     "cell_type": "code",
     "collapsed": false,
     "input": [
      "##takes the mturk results file and makes a dictionary mapping\n",
      "##the worker id to the assignment id\n",
      "def get_assignment_id(assignment_file):\n",
      "\trowNum=0\n",
      "\tworker_id_2_assignment_id = {}\n",
      "\twith(open(assignment_file,'rU')) as f:\n",
      "\t\treader = csv.reader(f)\n",
      "\t\t#worker id is 15 and 14\n",
      "\t\tfor row in reader:\n",
      "\t \t\tif rowNum > 0:\n",
      "\t\t\t\tworker_id_2_assignment_id[row[15]] = row[14]\n",
      "\t\t\trowNum += 1\n",
      "\treturn worker_id_2_assignment_id"
     ],
     "language": "python",
     "metadata": {},
     "outputs": [],
     "prompt_number": 4
    },
    {
     "cell_type": "code",
     "collapsed": false,
     "input": [
      "##variables and paths\n",
      "data_dir = '/Users/ianballard/Desktop/fd/'\n",
      "payment_file = os.path.join(data_dir,'payment_file.txt')\n",
      "assignment_file = os.path.join(data_dir,'magdelaydata.csv')\n",
      "bad_worker_file = os.path.join(data_dir,'bad_worker.txt')"
     ],
     "language": "python",
     "metadata": {},
     "outputs": [],
     "prompt_number": 5
    },
    {
     "cell_type": "code",
     "collapsed": false,
     "input": [
      "##takes the mturk results file and makes a dictionary mapping\n",
      "##the worker id to the assignment id\n",
      "def get_assignment_id(assignment_file):\n",
      "\trowNum=0\n",
      "\tworker_id_2_assignment_id = {}\n",
      "\twith(open(assignment_file,'rU')) as f:\n",
      "\t\treader = csv.reader(f)\n",
      "\t\t#worker id is 15 and 14\n",
      "\t\tfor row in reader:\n",
      "\t \t\tif rowNum > 0:\n",
      "\t\t\t\tworker_id_2_assignment_id[row[15]] = row[14]\n",
      "\t\t\trowNum += 1\n",
      "\treturn worker_id_2_assignment_id"
     ],
     "language": "python",
     "metadata": {},
     "outputs": [],
     "prompt_number": 6
    },
    {
     "cell_type": "code",
     "collapsed": false,
     "input": [
      "log_files = glob.glob('data/*log')"
     ],
     "language": "python",
     "metadata": {},
     "outputs": [],
     "prompt_number": 7
    },
    {
     "cell_type": "code",
     "collapsed": false,
     "input": [
      "ip_to_id = {}\n",
      "ip_to_bonus = {}\n",
      "bad_worker = {}\n",
      "full_data = {}\n",
      "for n,f in enumerate(log_files):\n",
      "    bad_worker[f] = False\n",
      "    subj_file = open(os.path.join(data_dir,f),'r')\n",
      "    subj_file = subj_file.readlines()\n",
      "    subj_file = np.array(subj_file)\n",
      "\n",
      "    \n",
      "    ##get mturk id\n",
      "    ip_to_id[f] = subj_file[0].split(' ')[1].split('=')[1]\n",
      "\n",
      "    if subj_file.size < 11: ##check for full data\n",
      "        bad_worker[f] = True\n",
      "        reason = 'incomplete'\n",
      "        print reason + ' ' + ip_to_id[f] + ' ' + f\n",
      "        \n",
      "    if bad_worker[f] == False:\n",
      "        \n",
      "        ##process file into dictionary\n",
      "        subj_dict = {}\n",
      "        for n,line in enumerate(subj_file):\n",
      "            if n < len(subj_file) - 1:\n",
      "                subj_dict[line.split(' ')[1].split('=')[0]] = line.split(' ')[1].split('=')[1].strip('\\n')\n",
      "        full_data[f] = subj_dict\n",
      "        ##assess quiz\n",
      "        quiz_value = int(subj_dict['quiz'])\n",
      "        if quiz_value != 13:\n",
      "            bad_worker[f] = True\n",
      "            reason = 'quiz'\n",
      "            print reason + ' ' + ip_to_id[f] + ' ' + f\n",
      "\n",
      "        ##get bonus\n",
      "        ip_to_bonus[f] = float(subj_dict['bonus'])"
     ],
     "language": "python",
     "metadata": {},
     "outputs": [
      {
       "output_type": "stream",
       "stream": "stdout",
       "text": [
        "incomplete A61GHYNS1DFT7\n",
        " data/107.220.224.229.log\n",
        "incomplete AR34M0TTKXKJT\n",
        " data/108.16.107.250.log\n",
        "incomplete AD3EO6X3NV82\n",
        " data/108.34.153.82.log"
       ]
      },
      {
       "output_type": "stream",
       "stream": "stdout",
       "text": [
        "\n",
        "incomplete A1QJ79SLW7NBX1\n",
        " data/108.55.68.11.log\n",
        "quiz A2VRGGN9SJRJWH\n",
        " data/131.247.244.234.log\n",
        "quiz 1,4,2,3,5,1,4,5,2,3\n",
        " data/171.64.41.113.log"
       ]
      },
      {
       "output_type": "stream",
       "stream": "stdout",
       "text": [
        "\n",
        "incomplete A2WQ3ZGXUF5FHO\n",
        " data/172.6.254.61.log\n",
        "incomplete 13\n",
        " data/172.9.37.16.log\n",
        "incomplete A3RL02A3JRAUS4\n",
        " data/173.171.129.92.log\n",
        "incomplete ADQ7ZBGC7693K\n",
        " data/174.109.122.172.log"
       ]
      },
      {
       "output_type": "stream",
       "stream": "stdout",
       "text": [
        "\n",
        "incomplete A20ALQT1HIVSAH\n",
        " data/184.58.176.38.log"
       ]
      },
      {
       "output_type": "stream",
       "stream": "stdout",
       "text": [
        "\n",
        "incomplete ADQKTG5B8ZW1G\n",
        " data/199.33.101.210.log\n",
        "incomplete A3EPDU2O2JMR50\n",
        " data/24.166.101.251.log"
       ]
      },
      {
       "output_type": "stream",
       "stream": "stdout",
       "text": [
        "\n",
        "incomplete A3097HLQB9BMWS\n",
        " data/50.250.173.114.log"
       ]
      },
      {
       "output_type": "stream",
       "stream": "stdout",
       "text": [
        "\n",
        "incomplete 13\n",
        " data/66.136.146.149.log"
       ]
      },
      {
       "output_type": "stream",
       "stream": "stdout",
       "text": [
        "\n",
        "quiz A1ZQUQ98LMO53P\n",
        " data/66.63.118.203.log\n",
        "incomplete A1R93MQYAFEVX1\n",
        " data/67.101.51.245.log\n",
        "incomplete AXQAMAX5I3RMS\n",
        " data/68.40.169.49.log"
       ]
      },
      {
       "output_type": "stream",
       "stream": "stdout",
       "text": [
        "\n",
        "incomplete AFT06UGRPBTEQ\n",
        " data/69.137.212.87.log"
       ]
      },
      {
       "output_type": "stream",
       "stream": "stdout",
       "text": [
        "\n",
        "incomplete A1PLKT0OSX7AHC\n",
        " data/69.171.176.12.log\n",
        "incomplete A3G9OMA8BFA7V0\n",
        " data/69.35.177.181.log\n",
        "incomplete 5,2,3,6,4,1\n",
        " data/69.35.177.183.log\n",
        "incomplete A149ROBL26JWPJ\n",
        " data/71.235.198.251.log"
       ]
      },
      {
       "output_type": "stream",
       "stream": "stdout",
       "text": [
        "\n",
        "incomplete A3BH4I2ZV89I6L\n",
        " data/71.35.143.22.log"
       ]
      },
      {
       "output_type": "stream",
       "stream": "stdout",
       "text": [
        "\n",
        "incomplete A2AGQGMZVSZVUJ\n",
        " data/71.93.210.38.log\n",
        "quiz A21SF3IKIZB0VN\n",
        " data/72.145.0.229.log"
       ]
      },
      {
       "output_type": "stream",
       "stream": "stdout",
       "text": [
        "\n",
        "incomplete AD368A1RHHRC3\n",
        " data/72.175.125.199.log\n",
        "incomplete A37GPRSEZORJRG\n",
        " data/74.199.51.37.log"
       ]
      },
      {
       "output_type": "stream",
       "stream": "stdout",
       "text": [
        "\n",
        "incomplete AK884VX5S74ZW\n",
        " data/75.132.231.41.log\n",
        "incomplete A1FA2AJUFESR5T\n",
        " data/75.97.82.163.log"
       ]
      },
      {
       "output_type": "stream",
       "stream": "stdout",
       "text": [
        "\n",
        "incomplete AHJQDF8PAHVDP\n",
        " data/76.110.18.67.log\n",
        "quiz A15QFI76W7P5F0\n",
        " data/97.81.67.216.log"
       ]
      },
      {
       "output_type": "stream",
       "stream": "stdout",
       "text": [
        "\n",
        "incomplete A1H95TGQZSN1P1\n",
        " data/98.117.83.23.log\n",
        "quiz A3NG6M8UG9U20J\n",
        " data/98.202.247.176.log"
       ]
      },
      {
       "output_type": "stream",
       "stream": "stdout",
       "text": [
        "\n"
       ]
      }
     ],
     "prompt_number": 8
    },
    {
     "cell_type": "code",
     "collapsed": false,
     "input": [
      "#preprocesses data. Takes subj_dict, string indicating which key to analyze, and dimensions to reshaping\n",
      "def preprocess_data(subj_dict,key,num_entries):\n",
      "    x = map(float,subj_dict[key].split(','))\n",
      "    x = np.array(x)\n",
      "    x = x.reshape((x.size/num_entries, num_entries))\n",
      "    return x\n"
     ],
     "language": "python",
     "metadata": {},
     "outputs": [],
     "prompt_number": 9
    },
    {
     "cell_type": "code",
     "collapsed": false,
     "input": [
      "##analyze reaction time data for rt thresholding task\n",
      "accuracy = np.array([])\n",
      "rt_thresh = {}\n",
      "for n,f in enumerate(log_files):\n",
      "    if bad_worker[f] == False: \n",
      "        ##preprocess\n",
      "        rt = preprocess_data(full_data[f], 'rt', 3)\n",
      "        rt = np.array([y for y in rt if y[0]!=-2. and y[1] < 4000 and y[0] != -1.]) #remove trails without button press, bug trials, trials with missed answers\n",
      "        rt_thresh[f] = rt[-1,2] #last rt threshold of training\n",
      "        ##get stats\n",
      "        accuracy = np.hstack([accuracy, 1 - np.array([x for x in rt if x[0]==0.]).shape[0]/float(rt.shape[0])])\n",
      "#         if accuracy[-1] <= .3: #missed too many responses\n",
      "#             bad_worker[f] = True\n",
      "        rt = np.mean(rt, axis = 0)[1]\n",
      "print np.mean(accuracy[accuracy>.2])\n",
      "print accuracy"
     ],
     "language": "python",
     "metadata": {},
     "outputs": [
      {
       "output_type": "stream",
       "stream": "stdout",
       "text": [
        "0.464422324663\n",
        "[ 0.46666667  0.33333333  0.53333333  0.46666667  0.53333333  0.53333333\n",
        "  0.53333333  0.08333333  0.4         0.53333333  0.46153846  0.46666667\n",
        "  0.33333333  0.33333333  0.5         0.53333333  0.45454545  0.07142857\n",
        "  0.46666667  0.53333333  0.53333333  0.35714286  0.57142857  0.30769231\n",
        "  0.33333333  0.53846154  0.53333333  0.46666667  0.46666667  0.46666667\n",
        "  0.4         0.6         0.4         0.6         0.4         0.35714286\n",
        "  0.46666667  0.53333333  0.4         0.46666667  0.42857143  0.54545455\n",
        "  0.61538462  0.27272727  0.53333333  0.46666667  0.53333333  0.\n",
        "  0.46666667  0.33333333  0.2         0.15384615  0.46666667  0.4\n",
        "  0.23076923  0.4         0.45454545  0.26666667  0.53333333  0.6\n",
        "  0.46666667  0.53846154  0.38461538  0.46666667  0.57142857  0.53333333\n",
        "  0.53333333  0.35714286  0.53333333  0.53333333  0.46666667  0.53333333\n",
        "  0.33333333  0.5         0.6         0.4         0.6         0.53333333\n",
        "  0.46666667  0.4         0.46666667  0.2         0.46666667  0.4\n",
        "  0.46666667  0.5         0.07692308  0.4         0.2         0.53333333\n",
        "  0.4       ]\n"
       ]
      }
     ],
     "prompt_number": 11
    },
    {
     "cell_type": "code",
     "collapsed": false,
     "input": [
      "##analyze rt data for the serial task and build dataframe\n",
      "rt = []\n",
      "num_trials = 25 #num trials per condition\n",
      "learning_fp = np.array([])\n",
      "learning_fn = np.array([])\n",
      "fp_accuracy = []\n",
      "fn_accuracy = [] \n",
      "r_accuracy = []\n",
      "for n,f in enumerate(log_files):\n",
      "    if bad_worker[f] == False: \n",
      "        ##preprocess\n",
      "        ser = preprocess_data(full_data[f], 'ser', 3)\n",
      "        ser = np.array([y for y in ser if y[1] < 5000]) ##remove bug trials\n",
      "        \n",
      "        cond = np.array( map(float, full_data[f]['cond'].split(',') ))\n",
      "        rew =  np.array( map(float, full_data[f]['rew'].split(',') ))\n",
      "        order = np.array( map(float, full_data[f]['trial_order'].split(',')))\n",
      "\n",
      "        ##cond: 1: ser fp + , 2: ser fp -, 3: ser fn -, 4: ser fn +         \n",
      "        ser_fp_indices = np.array([])\n",
      "        ser_fn_indices = np.array([]) \n",
      "        r_indices = np.array([]) \n",
      "        count = 0\n",
      "        for c in cond:\n",
      "            if c == 1: #ser fp +\n",
      "                ser_fp_indices = np.hstack([ser_fp_indices, count + 1])\n",
      "                count = count + 3\n",
      "            elif c == 2: #ser fp -\n",
      "                count = count + 2\n",
      "            elif c == 3: #ser fn -\n",
      "                count = count + 3\n",
      "            elif c == 4: #ser fn +\n",
      "                ser_fn_indices = np.hstack([ser_fn_indices, count])                \n",
      "                count = count + 2\n",
      "            elif c==5: #always rewarded\n",
      "                r_indices = np.hstack([r_indices,count])\n",
      "                count = count + 2\n",
      "        ##remove missed responses, chuck bad subjects\n",
      "        fp = ser[ser_fp_indices.astype(int),1]\n",
      "        fp[fp<0] = np.nan\n",
      "        fp = fp - rt_thresh[f] #normalize by that subject's RT in training\n",
      "        fp_accuracy.append(np.sum(ser[ser_fp_indices.astype(int),0] == .05)*1.0 / num_trials) #accuracy\n",
      "        diff1 = np.mean(fp[20:24]) - np.mean(fp[15:19])\n",
      "        \n",
      "        fn = ser[ser_fn_indices.astype(int),1]\n",
      "        fn[fn<0] = np.nan\n",
      "        fn = fn - rt_thresh[f] #normalize by that subject's RT in training\n",
      "        fn_accuracy.append(np.sum(ser[ser_fn_indices.astype(int),0] == .05)*1.0 / num_trials) #accuracy\n",
      "        diff2 = np.mean(fn[20:24]) - np.mean(fn[15:19])\n",
      "\n",
      "        r = ser[r_indices.astype(int),1]\n",
      "        r[r<0] = np.nan\n",
      "        r = r - rt_thresh[f] #normalize by that subject's RT in training\n",
      "        r_accuracy.append(np.sum(ser[r_indices.astype(int),0] == .05)*1.0 / num_trials) #accuracy\n",
      "        \n",
      "        if np.sum(np.isnan(fp)) > 3 or np.sum(np.isnan(fn)) > 3: #missed too many responses\n",
      "            bad_worker[f] = True\n",
      "            print bad_worker[f]\n",
      "#         elif diff1 < 5  or diff2 < 5:\n",
      "#             None\n",
      "        else:          #build dataFrame\n",
      "            rt.append(pd.DataFrame(dict(condition=[\"fn\"] * num_trials,\n",
      "                                            subj = [f] * num_trials,\n",
      "                                            presentation = np.arange(0,num_trials),\n",
      "                                            RT = fn), dtype=np.float))\n",
      "            rt.append(pd.DataFrame(dict(condition=[\"fp\"] * num_trials,\n",
      "                                    subj = [f] * num_trials,\n",
      "                                    presentation = np.arange(0,num_trials),\n",
      "                                    RT = fp), dtype=np.float))   \n",
      "            rt.append(pd.DataFrame(dict(condition=[\"r\"] * num_trials,\n",
      "                                    subj = [f] * num_trials,\n",
      "                                    presentation = np.arange(0,num_trials),\n",
      "                                    RT = r), dtype=np.float))  \n",
      "rt = pd.concat(rt)\n",
      "print np.mean(fp_accuracy)\n",
      "print np.mean(fn_accuracy)\n",
      "print np.mean(r_accuracy)\n",
      "a= [bad_worker[bad]==False for bad in bad_worker]\n",
      "print np.sum(a)"
     ],
     "language": "python",
     "metadata": {},
     "outputs": [
      {
       "output_type": "stream",
       "stream": "stdout",
       "text": [
        "True\n",
        "True\n",
        "True"
       ]
      },
      {
       "output_type": "stream",
       "stream": "stdout",
       "text": [
        "\n",
        "0.567912087912"
       ]
      },
      {
       "output_type": "stream",
       "stream": "stdout",
       "text": [
        "\n",
        "0.578901098901\n",
        "0.708571428571\n",
        "88\n"
       ]
      }
     ],
     "prompt_number": 12
    },
    {
     "cell_type": "code",
     "collapsed": false,
     "input": [
      "#do some basic analysis on time series data\n",
      "#         learning_fp = np.hstack([learning_fp , np.mean(ser_fp_rt[f][0:9]) - np.mean(ser_fp_rt[f][10:19])])\n",
      "#         learning_fn = np.hstack([learning_fn,np.mean(ser_fn_rt[f][0:9]) - np.mean(ser_fn_rt[f][10:19])])\n",
      "f, ax = plt.subplots(figsize=(10, 10))\n",
      "sns.set(context='poster')\n",
      "sns.despine()\n",
      "sns.tsplot(rt, time=\"presentation\", unit=\"subj\", condition=\"condition\", value=\"RT\",estimator=np.nanmean);\n",
      "ax.xaxis.grid(False)\n",
      "ax.yaxis.grid(False)\n",
      "plt.savefig(data_dir + 'fd.tiff', dpi=600,orientation='landscape')"
     ],
     "language": "python",
     "metadata": {},
     "outputs": [
      {
       "metadata": {},
       "output_type": "display_data",
       "png": "[encoded data removed]",
       "text": [
        "<matplotlib.figure.Figure at 0x10f3c55d0>"
       ]
      }
     ],
     "prompt_number": 13
    },
    {
     "cell_type": "code",
     "collapsed": false,
     "input": [
      "##analyze serial data for reversal condition\n",
      "fn = rt['condition'] == 'fn'\n",
      "switch = rt['presentation'] > 19\n"
     ],
     "language": "python",
     "metadata": {},
     "outputs": [
      {
       "output_type": "stream",
       "stream": "stdout",
       "text": [
        "0     False\n",
        "1     False\n",
        "2     False\n",
        "3     False\n",
        "4     False\n",
        "5     False\n",
        "6     False\n",
        "7     False\n",
        "8     False\n",
        "9     False\n",
        "10    False\n",
        "11    False\n",
        "12    False\n",
        "13    False\n",
        "14    False\n",
        "...\n",
        "10    False\n",
        "11    False\n",
        "12    False\n",
        "13    False\n",
        "14    False\n",
        "15    False\n",
        "16    False\n",
        "17    False\n",
        "18    False\n",
        "19    False\n",
        "20     True\n",
        "21     True\n",
        "22     True\n",
        "23     True\n",
        "24     True\n",
        "Name: presentation, Length: 6525, dtype: bool\n"
       ]
      }
     ],
     "prompt_number": 132
    },
    {
     "cell_type": "code",
     "collapsed": false,
     "input": [
      "##payment  \n",
      "assignment_file = os.path.join(data_dir,'results/Batch_1731434_batch_results.csv')\n",
      "payment_file = os.path.join(data_dir,'results/payment11.txt')\n",
      "worker_id_2_assignment_id = get_assignment_id(assignment_file)\n",
      "\n",
      "for n,f in enumerate(log_files):\n",
      "    if bad_worker[f] == False:\n",
      "        try:\n",
      "            assignment_id = worker_id_2_assignment_id[ip_to_id[f].strip('\\n')]\n",
      "\n",
      "        except:\n",
      "             print ip_to_id[f] + ' is not in results file' + f\n",
      "        else: #output results\n",
      "            out_str = [assignment_id , ip_to_id[f].strip('\\n') , str(ip_to_bonus[f] + .5)]\n",
      "            pay = open(payment_file,'a')\n",
      "            pay.write('\\t'.join(out_str))\n",
      "            pay.write('\\n')\n"
     ],
     "language": "python",
     "metadata": {},
     "outputs": [],
     "prompt_number": 14
    },
    {
     "cell_type": "code",
     "collapsed": false,
     "input": [
      "a=[round(1 + random.uniform(-.5,.5),2) for i in range(0,1000)]"
     ],
     "language": "python",
     "metadata": {},
     "outputs": [],
     "prompt_number": 28
    },
    {
     "cell_type": "code",
     "collapsed": false,
     "input": [],
     "language": "python",
     "metadata": {},
     "outputs": [],
     "prompt_number": 66
    },
    {
     "cell_type": "code",
     "collapsed": false,
     "input": [],
     "language": "python",
     "metadata": {},
     "outputs": []
    }
   ],
   "metadata": {}
  }
 ]
}