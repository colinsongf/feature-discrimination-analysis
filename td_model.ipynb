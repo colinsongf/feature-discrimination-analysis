{
 "cells": [
  {
   "cell_type": "code",
   "execution_count": 4,
   "metadata": {
    "collapsed": true
   },
   "outputs": [],
   "source": [
    "import os\n",
    "import numpy as np\n",
    "import glob\n",
    "import csv\n",
    "import matplotlib\n",
    "import matplotlib.pyplot as plt\n",
    "import pandas as pd\n",
    "from scipy import stats, optimize\n",
    "from pandas import DataFrame, Series\n",
    "import seaborn as sns\n",
    "import random as rd\n",
    "from statsmodels.formula.api import ols\n",
    "from statsmodels.stats.anova import anova_lm\n",
    "import scipy.stats\n",
    "import random"
   ]
  },
  {
   "cell_type": "code",
   "execution_count": 5,
   "metadata": {
    "collapsed": true
   },
   "outputs": [],
   "source": [
    "%matplotlib inline"
   ]
  },
  {
   "cell_type": "code",
   "execution_count": 14,
   "metadata": {
    "collapsed": false
   },
   "outputs": [],
   "source": [
    "##td code for serial condition\n",
    "ntrials = 30\n",
    "nsteps = 30\n",
    "w = np.zeros((nsteps,2))\n",
    "V = np.zeros((ntrials,nsteps))\n",
    "r = np.zeros((ntrials,nsteps))\n",
    "delta = np.zeros((ntrials,nsteps))\n",
    "\n",
    "\n",
    "gamma = 1\n",
    "alpha = .25\n",
    "\n",
    "a_time = 10 #time at which stimulus A occurs\n",
    "b_time = 20 #time at which stimulus B occurs\n",
    "reward_time = 25 #time at which reward occurs\n",
    "\n",
    "for trial in range(0,ntrials):\n",
    "    for step in range(0,nsteps):\n",
    "        x = np.zeros((nsteps,2))\n",
    "        if step >= a_time:\n",
    "            x[step - a_time,0] = 1\n",
    "        if step >= b_time:\n",
    "            x[step - b_time,1] = 1\n",
    "        r[trial,step] = (step == reward_time)\n",
    "        \n",
    "        V[trial,step] = np.trace(np.dot(w.T,x))\n",
    "\n",
    "        if step > 0:\n",
    "            delta[trial,step - 1] = r[trial,step - 1] + gamma * V[trial,step] - V[trial,step-1]\n",
    "            dw = alpha * delta[trial,step-1] * xlast\n",
    "            w += dw\n",
    "        \n",
    "        xlast = x\n"
   ]
  },
  {
   "cell_type": "code",
   "execution_count": 19,
   "metadata": {
    "collapsed": false
   },
   "outputs": [
    {
     "ename": "ValueError",
     "evalue": "shape mismatch: two or more arrays have incompatible dimensions on axis 1.",
     "output_type": "error",
     "traceback": [
      "\u001b[0;31m---------------------------------------------------------------------------\u001b[0m",
      "\u001b[0;31mValueError\u001b[0m                                Traceback (most recent call last)",
      "\u001b[0;32m<ipython-input-19-ac72dbb775fa>\u001b[0m in \u001b[0;36m<module>\u001b[0;34m()\u001b[0m\n\u001b[1;32m     22\u001b[0m \u001b[0;34m\u001b[0m\u001b[0m\n\u001b[1;32m     23\u001b[0m surf = ax.plot_surface(X, Y, delta, rstride=1, cstride=1, cmap=cm.coolwarm,\n\u001b[0;32m---> 24\u001b[0;31m          linewidth=0, antialiased=False)\n\u001b[0m\u001b[1;32m     25\u001b[0m \u001b[0;31m#surf = ax.plot_trisurf(ntrials, nsteps, delta)\u001b[0m\u001b[0;34m\u001b[0m\u001b[0;34m\u001b[0m\u001b[0m\n\u001b[1;32m     26\u001b[0m \u001b[0;34m\u001b[0m\u001b[0m\n",
      "\u001b[0;32m/Users/ianballard/Library/Enthought/Canopy_64bit/User/lib/python2.7/site-packages/mpl_toolkits/mplot3d/axes3d.pyc\u001b[0m in \u001b[0;36mplot_surface\u001b[0;34m(self, X, Y, Z, *args, **kwargs)\u001b[0m\n\u001b[1;32m   1565\u001b[0m         \u001b[0mZ\u001b[0m \u001b[0;34m=\u001b[0m \u001b[0mnp\u001b[0m\u001b[0;34m.\u001b[0m\u001b[0matleast_2d\u001b[0m\u001b[0;34m(\u001b[0m\u001b[0mZ\u001b[0m\u001b[0;34m)\u001b[0m\u001b[0;34m\u001b[0m\u001b[0m\n\u001b[1;32m   1566\u001b[0m         \u001b[0;31m# TODO: Support masked arrays\u001b[0m\u001b[0;34m\u001b[0m\u001b[0;34m\u001b[0m\u001b[0m\n\u001b[0;32m-> 1567\u001b[0;31m         \u001b[0mX\u001b[0m\u001b[0;34m,\u001b[0m \u001b[0mY\u001b[0m\u001b[0;34m,\u001b[0m \u001b[0mZ\u001b[0m \u001b[0;34m=\u001b[0m \u001b[0mnp\u001b[0m\u001b[0;34m.\u001b[0m\u001b[0mbroadcast_arrays\u001b[0m\u001b[0;34m(\u001b[0m\u001b[0mX\u001b[0m\u001b[0;34m,\u001b[0m \u001b[0mY\u001b[0m\u001b[0;34m,\u001b[0m \u001b[0mZ\u001b[0m\u001b[0;34m)\u001b[0m\u001b[0;34m\u001b[0m\u001b[0m\n\u001b[0m\u001b[1;32m   1568\u001b[0m         \u001b[0mrows\u001b[0m\u001b[0;34m,\u001b[0m \u001b[0mcols\u001b[0m \u001b[0;34m=\u001b[0m \u001b[0mZ\u001b[0m\u001b[0;34m.\u001b[0m\u001b[0mshape\u001b[0m\u001b[0;34m\u001b[0m\u001b[0m\n\u001b[1;32m   1569\u001b[0m \u001b[0;34m\u001b[0m\u001b[0m\n",
      "\u001b[0;32m/Users/ianballard/Library/Enthought/Canopy_64bit/User/lib/python2.7/site-packages/numpy/lib/stride_tricks.pyc\u001b[0m in \u001b[0;36mbroadcast_arrays\u001b[0;34m(*args)\u001b[0m\n\u001b[1;32m     99\u001b[0m             \u001b[0;31m# There must be at least two non-1 lengths for this axis.\u001b[0m\u001b[0;34m\u001b[0m\u001b[0;34m\u001b[0m\u001b[0m\n\u001b[1;32m    100\u001b[0m             raise ValueError(\"shape mismatch: two or more arrays have \"\n\u001b[0;32m--> 101\u001b[0;31m                 \"incompatible dimensions on axis %r.\" % (axis,))\n\u001b[0m\u001b[1;32m    102\u001b[0m         \u001b[0;32melif\u001b[0m \u001b[0mlen\u001b[0m\u001b[0;34m(\u001b[0m\u001b[0munique\u001b[0m\u001b[0;34m)\u001b[0m \u001b[0;34m==\u001b[0m \u001b[0;36m2\u001b[0m\u001b[0;34m:\u001b[0m\u001b[0;34m\u001b[0m\u001b[0m\n\u001b[1;32m    103\u001b[0m             \u001b[0;31m# There is exactly one non-1 length. The common shape will take\u001b[0m\u001b[0;34m\u001b[0m\u001b[0;34m\u001b[0m\u001b[0m\n",
      "\u001b[0;31mValueError\u001b[0m: shape mismatch: two or more arrays have incompatible dimensions on axis 1."
     ]
    }
   ],
   "source": [
    "from mpl_toolkits.mplot3d import Axes3D\n",
    "from matplotlib import cm\n",
    "from matplotlib.ticker import LinearLocator, FormatStrFormatter\n",
    "import matplotlib.pyplot as plt\n",
    "import numpy as np\n",
    "\n",
    "fig = plt.figure()\n",
    "ax = fig.gca(projection='3d')\n",
    "X = np.arange(0,30,1)\n",
    "Y = np.arange(0,ntrials,1)\n",
    "X, Y = np.meshgrid(X, Y)\n",
    "pe = np.array([delta[x,y] for x,y in zip(np.ravel(X), np.ravel(Y))])\n",
    "v = np.array([V[x,y] for x,y in zip(np.ravel(X), np.ravel(Y))])\n",
    "# Z = pe.reshape(X.shape)\n",
    "Z = v.reshape(X.shape)\n",
    "plt.xlabel('time steps')\n",
    "plt.ylabel('trials')\n",
    "\n",
    "ax.set_xlabel('time steps')\n",
    "ax.set_ylabel('trials')\n",
    "ax.set_zlabel('PE')\n",
    "\n",
    "surf = ax.plot_surface(X, Y, delta, rstride=1, cstride=1, cmap=cm.coolwarm,\n",
    "         linewidth=0, antialiased=False)\n",
    "#surf = ax.plot_trisurf(ntrials, nsteps, delta)\n",
    "\n",
    "ax.zaxis.set_major_locator(LinearLocator(10))\n",
    "ax.zaxis.set_major_formatter(FormatStrFormatter('%.02f'))\n",
    "\n",
    "fig.colorbar(surf, shrink=.5, aspect=5)\n",
    "\n",
    "plt.show()"
   ]
  },
  {
   "cell_type": "code",
   "execution_count": 43,
   "metadata": {
    "collapsed": false
   },
   "outputs": [],
   "source": [
    "##td code for serial condition with unrewarded B\n",
    "num_iters = 1000\n",
    "ntrials = 100\n",
    "nsteps = 30\n",
    "delta = np.zeros((ntrials,nsteps,num_iters))\n",
    "V = np.zeros((ntrials,nsteps,num_iters))\n",
    "\n",
    "gamma = 1\n",
    "alpha = .6\n",
    "\n",
    "a_time = 10 #time at which stimulus A occurs\n",
    "b_time = 20 #time at which stimulus B occurs\n",
    "reward_time = 25 #time at which reward occurs\n",
    "\n",
    "for iteration in range(0,num_iters):\n",
    "    w = np.zeros((nsteps,2))\n",
    "    r = np.zeros((ntrials,nsteps))\n",
    "\n",
    "    for trial in range(0,ntrials):\n",
    "        ser_trial = np.random.choice([True, False])\n",
    "        for step in range(0,nsteps):\n",
    "            x = np.zeros((nsteps,2))\n",
    "            if step >= b_time:\n",
    "                x[step - b_time,1] = 1 \n",
    "                \n",
    "            if ser_trial: #A -> B+\n",
    "                if step >= a_time:\n",
    "                    x[step - a_time,0] = 1\n",
    "                r[trial,step] = (step == reward_time)                \n",
    "\n",
    "            V[trial,step,iteration] = np.trace(np.dot(w.T,x))\n",
    "\n",
    "            if step > 0:\n",
    "                delta[trial,step - 1,iteration] = r[trial,step - 1] + gamma * V[trial,step,iteration] - V[trial,step-1,iteration]\n",
    "                dw = alpha * delta[trial,step-1,iteration] * xlast\n",
    "                w += dw\n",
    "\n",
    "            xlast = x\n",
    "delta = np.mean(delta, axis = 2)\n",
    "V = np.mean(V, axis = 2)"
   ]
  },
  {
   "cell_type": "code",
   "execution_count": 49,
   "metadata": {
    "collapsed": false
   },
   "outputs": [],
   "source": [
    "import numpy as np\n",
    "from mpl_toolkits.mplot3d import Axes3D\n",
    "import matplotlib.pyplot as plt\n",
    "import random\n",
    "\n",
    "def fun(x, y):\n",
    "        return V[x,y]\n",
    "\n",
    "fig = plt.figure()\n",
    "ax = fig.add_subplot(111, projection='3d')\n",
    "x = list(xrange(0,ntrials))\n",
    "y = list(xrange(0,nsteps))\n",
    "test = [[a for a in range(0, len(y))] for b in range(0, len(x))]\n",
    "X, Y = np.meshgrid(x, y)\n",
    "zs = np.array([fun(x,y) for x,y in zip(np.ravel(X), np.ravel(Y))])\n",
    "Z = zs.reshape(X.shape)\n",
    "ax.plot_surface(X, Y, Z,rstride=1, cstride=1, cmap=cm.coolwarm,\n",
    "         linewidth=0, antialiased=False)\n",
    "\n",
    "ax.set_xlabel('Trials')\n",
    "ax.set_ylabel('Steps')\n",
    "ax.set_zlabel('V')\n",
    "#fig.colorbar(surf, shrink=.5, aspect=5)\n",
    "\n",
    "plt.show()"
   ]
  },
  {
   "cell_type": "code",
   "execution_count": 17,
   "metadata": {
    "collapsed": false
   },
   "outputs": [
    {
     "data": {
      "text/plain": [
       "<matplotlib.figure.Figure at 0x1103df5d0>"
      ]
     },
     "metadata": {},
     "output_type": "display_data"
    },
    {
     "data": {
      "image/png": "[encoded data removed]",
      "text/plain": [
       "<matplotlib.figure.Figure at 0x1103d6810>"
      ]
     },
     "metadata": {},
     "output_type": "display_data"
    }
   ],
   "source": [
    "#load data from MDP model and plot it\n",
    "c_go_sim_fn = '/Users/ianballard/Dropbox/fd/c_go_sim_fn.txt'\n",
    "c_dont_sim_fn = '/Users/ianballard/Dropbox/fd/c_dont_sim_fn.txt'\n",
    "c_go_sim_fp = '/Users/ianballard/Dropbox/fd/c_go_sim_fp.txt'\n",
    "c_dont_sim_fp = '/Users/ianballard/Dropbox/fd/c_dont_sim_fp.txt'\n",
    "c_go_ser_fp = '/Users/ianballard/Dropbox/fd/c_go_ser_fp.txt'\n",
    "c_dont_ser_fp = '/Users/ianballard/Dropbox/fd/c_dont_ser_fp.txt'\n",
    "c_go_ser_fn = '/Users/ianballard/Dropbox/fd/c_go_ser_fn.txt'\n",
    "c_dont_ser_fn = '/Users/ianballard/Dropbox/fd/c_dont_ser_fn.txt'\n",
    "\n",
    "c_go_sim_fn = np.loadtxt(c_go_sim_fn)\n",
    "c_dont_sim_fn = np.loadtxt(c_dont_sim_fn)\n",
    "c_go_sim_fp = np.loadtxt(c_go_sim_fp)\n",
    "c_dont_sim_fp = np.loadtxt(c_dont_sim_fp)\n",
    "c_go_ser_fp = np.loadtxt(c_go_ser_fp)\n",
    "c_dont_ser_fp = np.loadtxt(c_dont_ser_fp)\n",
    "c_go_ser_fn = np.loadtxt(c_go_ser_fn)\n",
    "c_dont_ser_fn = np.loadtxt(c_dont_ser_fn)\n",
    "\n",
    "num_iters = len(c_dont_ser_fn)\n",
    "Weight = np.hstack(((c_go_ser_fp - c_dont_ser_fp).ravel(), (c_go_ser_fn - c_dont_ser_fn).ravel(), \n",
    "                    ( c_go_sim_fp -  c_dont_sim_fp).ravel() ,(c_go_sim_fn -  c_dont_sim_fn).ravel()))\n",
    "stim_type = ['AF']*num_iters + ['CG']*num_iters + ['AF'] *num_iters + ['CG'] * num_iters\n",
    "cond = ['ser']*num_iters + ['ser']*num_iters + ['sim'] *num_iters + ['sim'] * num_iters\n",
    "\n",
    "d = {'Feature Weight': Weight , 'condition': cond, 'Stimulus Type': stim_type}\n",
    "d = DataFrame(d)\n",
    "\n",
    "data_dir = '/Users/ianballard/Dropbox/fd/'\n",
    "sns.set(context='poster')\n",
    "sns.despine()\n",
    "# results = {'ser_fp': c_go_ser_fp - c_dont_ser_fp, 'ser_fn': c_go_ser_fn - c_dont_ser_fn,\n",
    "#            'sim_fp':  c_go_sim_fp -  c_dont_sim_fp ,'sim_fn': c_go_sim_fn -  c_dont_sim_fn}\n",
    "# results = pd.DataFrame(results)\n",
    "sns.factorplot('condition','Feature Weight','Stimulus Type', data=d,kind='bar',palette=\"Pastel1\",ci=68);\n",
    "plt.savefig(data_dir + 'fd_simulated.tiff', dpi=600,orientation='landscape')\n"
   ]
  },
  {
   "cell_type": "code",
   "execution_count": null,
   "metadata": {
    "collapsed": true
   },
   "outputs": [],
   "source": []
  }
 ],
 "metadata": {
  "kernelspec": {
   "display_name": "Python 2",
   "language": "python",
   "name": "python2"
  },
  "language_info": {
   "codemirror_mode": {
    "name": "ipython",
    "version": 2
   },
   "file_extension": ".py",
   "mimetype": "text/x-python",
   "name": "python",
   "nbconvert_exporter": "python",
   "pygments_lexer": "ipython2",
   "version": "2.7.3"
  }
 },
 "nbformat": 4,
 "nbformat_minor": 0
}
