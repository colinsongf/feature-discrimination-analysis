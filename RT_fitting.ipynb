{
 "cells": [
  {
   "cell_type": "code",
   "execution_count": 106,
   "metadata": {
    "collapsed": true
   },
   "outputs": [],
   "source": [
    "import os\n",
    "import numpy as np\n",
    "import glob\n",
    "import csv\n",
    "import matplotlib\n",
    "import matplotlib.pyplot as plt\n",
    "import pandas as pd\n",
    "from scipy import stats, optimize\n",
    "from pandas import DataFrame, Series\n",
    "import seaborn as sns\n",
    "import random as rd\n",
    "from statsmodels.formula.api import ols\n",
    "from statsmodels.stats.anova import anova_lm\n",
    "import scipy.stats\n",
    "import patsy\n",
    "from scipy.optimize import minimize\n",
    "from sklearn import linear_model\n",
    "\n",
    "##Code for analysis of fMRI experiment"
   ]
  },
  {
   "cell_type": "code",
   "execution_count": 2,
   "metadata": {
    "collapsed": true
   },
   "outputs": [],
   "source": [
    "%matplotlib inline"
   ]
  },
  {
   "cell_type": "code",
   "execution_count": 182,
   "metadata": {
    "collapsed": false
   },
   "outputs": [],
   "source": [
    "#Read in data\n",
    "data_dir = '/Users/ianballard/Dropbox/fd/'\n",
    "all_rts = pd.read_csv(data_dir + 'all_rts.csv', index_col =0)\n",
    "exp_order = pd.read_csv(data_dir + 'exp_order.csv', index_col =0)\n",
    "num_runs = 3"
   ]
  },
  {
   "cell_type": "code",
   "execution_count": 213,
   "metadata": {
    "collapsed": false
   },
   "outputs": [],
   "source": [
    "#process the RTs a bit (remove trial types 1, 4, and 10 (see below) and mean center)\n",
    "ser_rts = all_rts[all_rts['exp']=='ser']\n",
    "ser_rts = ser_rts[ser_rts['order'] != 10] #ITI\n",
    "ser_rts = ser_rts[ser_rts['order'] != 1] #A\n",
    "ser_rts = ser_rts[ser_rts['order'] != 4] #A\n",
    "\n",
    "order_dict = {'c_plus':6, 'b_plus':2, 'b_minus':3, 'c_minus':5} #coding for trial order vector\n"
   ]
  },
  {
   "cell_type": "code",
   "execution_count": 222,
   "metadata": {
    "collapsed": false
   },
   "outputs": [],
   "source": [
    "def perform_RL(trial_order,rew_trial,alpha):\n",
    "    V = {'b_plus':[0], 'b_minus' : [0], 'c_plus' : [0],'c_minus':[0]}\n",
    "    index = {'b_plus':[], 'b_minus' : [], 'c_plus' : [],'c_minus':[]}\n",
    "    count = 0\n",
    "    for n,cond in enumerate(trial_order):\n",
    "        trial_type = None\n",
    "        for key in order_dict:\n",
    "            if order_dict[key] == cond:\n",
    "                trial_type = key\n",
    "        \n",
    "        if trial_type is not None:\n",
    "            rew = rew_trial[n]\n",
    "            delta = rew - V[trial_type][-1]\n",
    "            new_V = V[trial_type][-1] + alpha * delta\n",
    "            V[trial_type].append(new_V)\n",
    "            index[trial_type].append(count)\n",
    "            count += 1   \n",
    "    return V, index\n"
   ]
  },
  {
   "cell_type": "code",
   "execution_count": 237,
   "metadata": {
    "collapsed": false
   },
   "outputs": [],
   "source": [
    "##function for building dataframe of relevant data for each subject\n",
    "def build_df(sub):\n",
    "    predictors = {'V':[],'run':[], 'cond':[], 'trial_index':[],'rt':[]}\n",
    "    for i in range(1,num_runs+1):\n",
    "\n",
    "        ##perform RL for the experimental condition\n",
    "        rew = np.array(exp_order[exp_order['run']==i]['rew'])\n",
    "        tt = np.array(exp_order[exp_order['run']==i]['trial_order'])\n",
    "        V, index = perform_RL(tt,rew,alpha)\n",
    "\n",
    "        #get rt data for this subject and run\n",
    "        rt_data = ser_rts[(ser_rts['sub']==sub) & (ser_rts['run']==i) ]\n",
    "        \n",
    "        ##update predictors dict\n",
    "        for key in V.keys():\n",
    "            V[key] = V[key][:-1] #last entry is for subsequent trial that doesnt exist\n",
    "            predictors['V'].extend(V[key])\n",
    "            predictors['cond'].extend([key]*len(V[key]))\n",
    "            predictors['run'].extend(['run' + str(i)]*len(V[key]))\n",
    "            predictors['trial_index'].extend(index[key])\n",
    "            predictors['rt'].extend(rt_data[rt_data['order']==order_dict[key]]['rt'].values)\n",
    "\n",
    "    predictors = pd.DataFrame(predictors)\n",
    "    predictors = predictors.sort(['run','trial_index']) #get predictors in proper order\n",
    "\n",
    "    #mean center RT\n",
    "    predictors['rt'] = predictors['rt'] - predictors['rt'].mean()\n",
    "\n",
    "    #Z-score trial index for each row\n",
    "    for i in range(1,num_runs+1):\n",
    "        run = 'run' + str(i)\n",
    "        predictors.loc[predictors['run']==run,'trial_index'] =  predictors.loc[predictors['run']==run,'trial_index'] - \\\n",
    "        predictors.loc[predictors['run']==run,'trial_index'].mean()\n",
    "        predictors.loc[predictors['run']==run,'trial_index'] =  predictors.loc[predictors['run']==run,'trial_index'] / \\\n",
    "        predictors.loc[predictors['run']==run,'trial_index'].std()\n",
    "    \n",
    "    return predictors"
   ]
  },
  {
   "cell_type": "code",
   "execution_count": 240,
   "metadata": {
    "collapsed": false
   },
   "outputs": [],
   "source": [
    "##returns loss for linear regression\n",
    "def regress(params):\n",
    "    \n",
    "    alpha = params[0] #learning rate\n",
    "    beta = params[1:]\n",
    "    \n",
    "    ##perform RL for the experimental condition\n",
    "    for i in range(1,num_runs+1):\n",
    "        rew = np.array(exp_order[exp_order['run']==i]['rew'])\n",
    "        tt = np.array(exp_order[exp_order['run']==i]['trial_order'])\n",
    "        V, index = perform_RL(tt,rew,alpha)\n",
    "        for key in V.keys():\n",
    "            V[key] = V[key][:-1] #last entry is for subsequent trial that doesnt exist\n",
    "            predictors.loc[(predictors['run'] == 'run' + str(i)) & (predictors['cond'] == key),'V'] = V[key]\n",
    "\n",
    "    #build RL matrixes\n",
    "    yd,Xd = patsy.dmatrices(\"rt ~ 1+trial_index+V+run\",predictors,NA_action='drop')\n",
    "    X = np.asarray(Xd)\n",
    "    y=np.array(map(float,np.asarray(yd)))\n",
    "\n",
    "    #compute prediction and loss\n",
    "    y_hat = np.dot(X,beta)\n",
    "    loss = np.linalg.norm(y - y_hat)\n",
    "    return loss"
   ]
  },
  {
   "cell_type": "code",
   "execution_count": 241,
   "metadata": {
    "collapsed": false
   },
   "outputs": [
    {
     "name": "stdout",
     "output_type": "stream",
     "text": [
      "Optimization terminated successfully.\n",
      "         Current function value: 276.558365\n",
      "         Iterations: 20\n",
      "         Function evaluations: 168\n",
      "         Gradient evaluations: 21\n"
     ]
    }
   ],
   "source": [
    "predictors = build_df(112)\n",
    "params = np.transpose(np.zeros(X.shape[1]+1)) #initialize parameters to 0\n",
    "res = minimize(regress, params, method='BFGS',options={'disp': True})"
   ]
  },
  {
   "cell_type": "code",
   "execution_count": 242,
   "metadata": {
    "collapsed": false
   },
   "outputs": [
    {
     "data": {
      "text/plain": [
       "   status: 0\n",
       "  success: True\n",
       "     njev: 21\n",
       "     nfev: 168\n",
       " hess_inv: array([[  1.        ,   0.        ,   0.        ,   0.        ,\n",
       "          0.        ,   0.        ],\n",
       "       [  0.        ,  13.68201753, -14.47335064, -13.81820957,\n",
       "          0.22098521,   0.        ],\n",
       "       [  0.        , -14.47335064,  28.77724693,  13.98171067,\n",
       "         -0.70184257,   0.        ],\n",
       "       [  0.        , -13.81820957,  13.98171067,  25.19194916,\n",
       "         -0.47551846,   0.        ],\n",
       "       [  0.        ,   0.22098521,  -0.70184257,  -0.47551846,\n",
       "          4.47410093,   0.        ],\n",
       "       [  0.        ,   0.        ,   0.        ,   0.        ,\n",
       "          0.        ,   1.        ]])\n",
       "      fun: 276.5583650839056\n",
       "        x: array([  0.        ,   0.59423704, -13.1730896 ,  11.85249137,\n",
       "        -3.8587171 ,   0.        ])\n",
       "  message: 'Optimization terminated successfully.'\n",
       "      jac: array([  0.00000000e+00,   0.00000000e+00,   0.00000000e+00,\n",
       "        -3.81469727e-06,   0.00000000e+00,   0.00000000e+00])"
      ]
     },
     "execution_count": 242,
     "metadata": {},
     "output_type": "execute_result"
    }
   ],
   "source": [
    "res"
   ]
  },
  {
   "cell_type": "code",
   "execution_count": 110,
   "metadata": {
    "collapsed": false
   },
   "outputs": [
    {
     "data": {
      "text/plain": [
       "array([ -3.52411454, -13.38725855,  11.71133923,  -9.9083914 ,  24.31352455])"
      ]
     },
     "execution_count": 110,
     "metadata": {},
     "output_type": "execute_result"
    }
   ],
   "source": [
    "#double check that linear regression code works (given a fixed alpha)\n",
    "clf = linear_model.LinearRegression(fit_intercept=False)\n",
    "clf.fit(X, y)\n",
    "clf.coef_"
   ]
  },
  {
   "cell_type": "code",
   "execution_count": null,
   "metadata": {
    "collapsed": false
   },
   "outputs": [],
   "source": []
  },
  {
   "cell_type": "code",
   "execution_count": null,
   "metadata": {
    "collapsed": true
   },
   "outputs": [],
   "source": []
  }
 ],
 "metadata": {
  "kernelspec": {
   "display_name": "Python 2",
   "language": "python",
   "name": "python2"
  },
  "language_info": {
   "codemirror_mode": {
    "name": "ipython",
    "version": 2
   },
   "file_extension": ".py",
   "mimetype": "text/x-python",
   "name": "python",
   "nbconvert_exporter": "python",
   "pygments_lexer": "ipython2",
   "version": "2.7.3"
  }
 },
 "nbformat": 4,
 "nbformat_minor": 0
}
