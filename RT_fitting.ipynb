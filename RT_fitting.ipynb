{
 "cells": [
  {
   "cell_type": "code",
   "execution_count": 2,
   "metadata": {
    "collapsed": true
   },
   "outputs": [],
   "source": [
    "import os\n",
    "import numpy as np\n",
    "import glob\n",
    "import csv\n",
    "import matplotlib\n",
    "import matplotlib.pyplot as plt\n",
    "import pandas as pd\n",
    "from scipy import stats, optimize\n",
    "from pandas import DataFrame, Series\n",
    "import seaborn as sns\n",
    "import random as rd\n",
    "from statsmodels.formula.api import ols\n",
    "from statsmodels.stats.anova import anova_lm\n",
    "import scipy.stats\n",
    "\n",
    "##Code for analysis of fMRI experiment"
   ]
  },
  {
   "cell_type": "code",
   "execution_count": 3,
   "metadata": {
    "collapsed": true
   },
   "outputs": [],
   "source": [
    "%matplotlib inline"
   ]
  },
  {
   "cell_type": "code",
   "execution_count": 6,
   "metadata": {
    "collapsed": false
   },
   "outputs": [],
   "source": [
    "#Read in data\n",
    "data_dir = '/Users/ianballard/Dropbox/fd/'\n",
    "rt_ser = pd.read_csv(data_dir + 'rt_ser.csv')\n",
    "rt_switch_ser = pd.read_csv(data_dir + 'rt_switch_ser.csv')\n",
    "rt_sim = pd.read_csv(data_dir + 'rt_sim.csv')\n",
    "rt_switch_sim = pd.read_csv(data_dir + 'rt_switch_sim.csv')"
   ]
  },
  {
   "cell_type": "code",
   "execution_count": 29,
   "metadata": {
    "collapsed": true
   },
   "outputs": [],
   "source": [
    "rew_trial_1 = [0, 0, 0, 1, 0, 1, 0, 0, 1, 0, 0, 1, 0, 0, 0, 0, 1, 0, 0, 1, 0, 0, 1, 0, 0, 0, 0, 0, 0, 0, 0, 0, 0, 1, 0, 0, 0, 0, 0, 0, 0, 1, 0, 0, 0, 0, 0, 0, 1, 0, 0, 0, 0, 0, 0, 0, 0, 1, 0, 1, 0, 0, 0, 0, 0, 0, 1, 0, 0, 1, 0, 0, 0, 0, 0, 0, 0, 1, 0, 0, 0, 1, 0, 0, 1, 0, 0, 0, 1, 0, 1, 0, 0, 1, 0, 0, 0, 0, 0, 0]\n",
    "trial_order_1 = [1, 2, 10, 6, 10, 6, 10, 4, 5, 10, 1, 2, 10, 3, 10, 1, 2, 10, 1, 2, 10, 1, 2, 10, 4, 5, 10, 4, 5, 10, 3, 10, 1, 2, 10, 4, 5, 10, 4, 5, 10, 6, 10, 3, 10, 4, 5, 10, 6, 10, 3, 10, 3, 10, 6, 10, 4, 5, 10, 3, 10, 6, 10, 1, 2, 10, 3, 10, 1, 2, 10, 4, 5, 10, 4, 5, 10, 6, 10, 3, 10, 6, 10, 1, 2, 10, 3, 10, 6, 10, 3, 10, 4, 5, 10, 6, 10, 1, 2, 10]\n",
    "            \n",
    "rew_trial_2 = [0, 0, 0, 1, 0, 0, 0, 0, 0, 0, 0, 0, 1, 0, 0, 0, 0, 0, 0, 0, 0, 0, 0, 0, 0, 0, 0, 0, 0, 0, 1, 0, 1, 0, 1, 0, 0, 1, 0, 0, 1, 0, 0, 1, 0, 0, 0, 1, 0, 1, 0, 1, 0, 0, 0, 0, 0, 0, 0, 0, 0, 0, 0, 0, 1, 0, 0, 1, 0, 0, 1, 0, 1, 0, 0, 0, 0, 0, 1, 0, 1, 0, 0, 0, 0, 0, 0, 0, 1, 0, 0, 1, 0, 1, 0, 0, 0, 0, 0, 0]\n",
    "trial_order_2 = [4, 5, 10, 3, 10, 4, 5, 10, 4, 5, 10, 1, 2, 10, 3, 10, 3, 10, 4, 5, 10, 4, 5, 10, 1, 2, 10, 6, 10, 1, 2, 10, 6, 10, 6, 10, 4, 5, 10, 4, 5, 10, 1, 2, 10, 3, 10, 6, 10, 6, 10, 6, 10, 4, 5, 10, 3, 10, 1, 2, 10, 6, 10, 1, 2, 10, 1, 2, 10, 1, 2, 10, 3, 10, 4, 5, 10, 1, 2, 10, 6, 10, 3, 10, 3, 10, 3, 10, 6, 10, 4, 5, 10, 3, 10, 6, 10, 1, 2, 10]\n",
    "                \n",
    "rew_trial_3 = [0, 1, 0, 1, 0, 0, 0, 0, 0, 0, 0, 1, 0, 0, 1, 0, 0, 0, 0, 0, 0, 0, 0, 0, 0, 0, 0, 0, 0, 0, 1, 0, 1, 0, 1, 0, 1, 0, 0, 0, 0, 0, 1, 0, 0, 1, 0, 0, 0, 0, 1, 0, 0, 0, 0, 0, 0, 0, 0, 0, 1, 0, 0, 0, 0, 0, 1, 0, 0, 0, 0, 0, 1, 0, 0, 0, 0, 1, 0, 0, 0, 0, 1, 0, 0, 0, 1, 0, 1, 0, 1, 0, 0, 1, 0, 0, 0, 0, 0, 0]\n",
    "trial_order_3 = [1, 2, 10, 6, 10, 6, 10, 3, 10, 3, 10, 6, 10, 1, 2, 10, 1, 2, 10, 3, 10, 3, 10, 4, 5, 10, 4, 5, 10, 1, 2, 10, 6, 10, 3, 10, 6, 10, 4, 5, 10, 4, 5, 10, 4, 5, 10, 3, 10, 1, 2, 10, 4, 5, 10, 4, 5, 10, 6, 10, 3, 10, 4, 5, 10, 1, 2, 10, 1, 2, 10, 1, 2, 10, 4, 5, 10, 6, 10, 3, 10, 1, 2, 10, 3, 10, 6, 10, 6, 10, 3, 10, 4, 5, 10, 1, 2, 10, 6, 10]"
   ]
  },
  {
   "cell_type": "code",
   "execution_count": 30,
   "metadata": {
    "collapsed": false
   },
   "outputs": [],
   "source": [
    "def perform_RL(trial_order,rew_trial,alpha):\n",
    "    V = {'b_plus':[0], 'b_minus' : [0], 'c_plus' : [0],'c_minus':[0]}\n",
    "    for n,cond in enumerate(trial_order):\n",
    "        if cond == 1: #A\n",
    "            continue\n",
    "        elif cond == 2:\n",
    "            trial_type = 'b_plus'\n",
    "        elif cond == 3:\n",
    "            trial_type = 'b_minus'\n",
    "        elif cond == 4: #A\n",
    "            continue\n",
    "        elif cond == 5: \n",
    "            trial_type = 'c_minus'\n",
    "        elif cond == 6:\n",
    "            trial_type = 'c_plus'\n",
    "\n",
    "        rew = rew_trial[n]\n",
    "\n",
    "        delta = rew - V[trial_type][-1]\n",
    "        new_V = V[trial_type][-1] + alpha * delta\n",
    "        V[trial_type].append(new_V)\n",
    "    return V"
   ]
  },
  {
   "cell_type": "code",
   "execution_count": null,
   "metadata": {
    "collapsed": true
   },
   "outputs": [],
   "source": []
  }
 ],
 "metadata": {
  "kernelspec": {
   "display_name": "Python 2",
   "language": "python",
   "name": "python2"
  },
  "language_info": {
   "codemirror_mode": {
    "name": "ipython",
    "version": 2
   },
   "file_extension": ".py",
   "mimetype": "text/x-python",
   "name": "python",
   "nbconvert_exporter": "python",
   "pygments_lexer": "ipython2",
   "version": "2.7.3"
  }
 },
 "nbformat": 4,
 "nbformat_minor": 0
}
