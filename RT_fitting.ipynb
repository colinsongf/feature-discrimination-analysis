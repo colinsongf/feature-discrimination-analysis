{
 "cells": [
  {
   "cell_type": "code",
   "execution_count": 2,
   "metadata": {
    "collapsed": true
   },
   "outputs": [],
   "source": [
    "import os\n",
    "import numpy as np\n",
    "import glob\n",
    "import csv\n",
    "import matplotlib\n",
    "import matplotlib.pyplot as plt\n",
    "import pandas as pd\n",
    "from scipy import stats, optimize\n",
    "from pandas import DataFrame, Series\n",
    "import seaborn as sns\n",
    "import random as rd\n",
    "from statsmodels.formula.api import ols\n",
    "from statsmodels.stats.anova import anova_lm\n",
    "import scipy.stats\n",
    "import patsy\n",
    "from scipy.optimize import minimize\n",
    "from scipy.optimize import basinhopping\n",
    "from sklearn import linear_model\n",
    "import multiprocessing\n",
    "##Code for analysis of fMRI experiment"
   ]
  },
  {
   "cell_type": "code",
   "execution_count": 3,
   "metadata": {
    "collapsed": true
   },
   "outputs": [],
   "source": [
    "%matplotlib inline"
   ]
  },
  {
   "cell_type": "code",
   "execution_count": 205,
   "metadata": {
    "collapsed": false
   },
   "outputs": [],
   "source": [
    "#Read in data\n",
    "data_dir = os.path.abspath('../')\n",
    "all_rts = pd.read_csv(data_dir + '/all_rts.csv', index_col =0)\n",
    "exp_order = pd.read_csv(data_dir + '/exp_order.csv', index_col =0)\n",
    "subjects = list(np.loadtxt(data_dir+ '/subjects.txt',str))\n",
    "\n",
    "#some experiment variables\n",
    "order_dict_ser = {'c_plus':6, 'b_plus':2, 'b_minus':3, 'c_minus':5} #coding for trial order vector\n",
    "order_dict_sim = {'c_plus':4, 'b_plus':1, 'b_minus':2, 'c_minus':3}\n",
    "order_dict_exp = {'ser': order_dict_ser, 'sim':order_dict_sim}"
   ]
  },
  {
   "cell_type": "code",
   "execution_count": 206,
   "metadata": {
    "collapsed": false
   },
   "outputs": [],
   "source": [
    "#process the RTs a bit (remove trial types 1, 4, and 10 (see below) and mean center)\n",
    "ser_rts = all_rts[all_rts['exp']=='ser']\n",
    "ser_rts = ser_rts[ser_rts['order'] != 10] #ITI\n",
    "ser_rts = ser_rts[ser_rts['order'] != 1] #A\n",
    "ser_rts = ser_rts[ser_rts['order'] != 4] #A\n",
    "\n",
    "sim_rts = all_rts[all_rts['exp']=='sim']\n",
    "sim_rts = sim_rts[sim_rts['order'] != 10] #ITI\n",
    "\n",
    "rt_dict_exp = {'ser': ser_rts, 'sim':sim_rts}"
   ]
  },
  {
   "cell_type": "code",
   "execution_count": 190,
   "metadata": {
    "collapsed": true
   },
   "outputs": [],
   "source": [
    "#made a mistake labeling these subject files. See notes\n",
    "def get_sub_id(sub):        \n",
    "    if sub == 'fd_126':\n",
    "        sub_id = 'fd_125'\n",
    "    elif sub == 'fd_127':\n",
    "        sub_id = 'fd_126'\n",
    "    else:\n",
    "        sub_id = sub\n",
    "    return sub_id"
   ]
  },
  {
   "cell_type": "code",
   "execution_count": 201,
   "metadata": {
    "collapsed": false
   },
   "outputs": [],
   "source": [
    "def perform_RL(trial_order,rew_trial,alpha,exp):\n",
    "    V = {'b_plus':[0], 'b_minus' : [0], 'c_plus' : [0],'c_minus':[0]}\n",
    "    delta = {'b_plus':[], 'b_minus' : [], 'c_plus' : [],'c_minus':[]}\n",
    "    index = {'b_plus':[], 'b_minus' : [], 'c_plus' : [],'c_minus':[]}\n",
    "    order_dict = order_dict_exp[exp]\n",
    "    count = 0\n",
    "    for n,cond in enumerate(trial_order):\n",
    "        trial_type = None\n",
    "        for key in order_dict:\n",
    "            if order_dict[key] == cond:\n",
    "                trial_type = key\n",
    "        \n",
    "        if trial_type is not None:\n",
    "            rew = rew_trial[n]\n",
    "            delta[trial_type].append(rew - V[trial_type][-1]) #compute PE\n",
    "            new_V = V[trial_type][-1] + alpha * delta[trial_type][-1] #calculate V for next trial\n",
    "            V[trial_type].append(new_V) \n",
    "            index[trial_type].append(count)\n",
    "            count += 1 \n",
    "\n",
    "    return V, delta, index"
   ]
  },
  {
   "cell_type": "code",
   "execution_count": 192,
   "metadata": {
    "collapsed": false
   },
   "outputs": [],
   "source": [
    "##function for building dataframe of relevant data for each subject\n",
    "def build_df(sub,num_runs,exp):\n",
    "    \n",
    "    alpha = .1 #just some arbitrary alpha to get things going\n",
    "    order_dict = order_dict_exp[exp]\n",
    "    predictors = {'V':[],'PE':[],'run':[], 'cond':[], 'trial_index':[],'rt':[]}\n",
    "    \n",
    "    for i in range(1,num_runs+1):\n",
    "        ##perform RL for the experimental condition\n",
    "        event_order = exp_order[exp_order['exp']==exp]\n",
    "        rew = np.array(event_order[event_order['run']==i]['rew'])\n",
    "        tt = np.array(event_order[event_order['run']==i]['trial_order'])\n",
    "        V, delta, index = perform_RL(tt,rew,alpha)\n",
    "\n",
    "        #get rt data for this subject and run\n",
    "        rts = rt_dict_exp[exp]\n",
    "        rt_data = rts[(rts['sub']==sub) & (rts['run']==i) ]\n",
    "        \n",
    "        ##update predictors dict\n",
    "        for key in V.keys():\n",
    "            V[key] = V[key][:-1] #last entry is for subsequent trial that doesnt exist\n",
    "            predictors['V'].extend(V[key])\n",
    "            predictors['PE'].extend(delta[key])\n",
    "            predictors['cond'].extend([key]*len(V[key]))\n",
    "            predictors['run'].extend(['run' + str(i)]*len(V[key]))\n",
    "            predictors['trial_index'].extend(index[key])\n",
    "            predictors['rt'].extend(rt_data[rt_data['order']==order_dict[key]]['rt'].values)\n",
    "\n",
    "    predictors = pd.DataFrame(predictors)\n",
    "    predictors = predictors.sort(['run','trial_index']) #get predictors in proper order\n",
    "\n",
    "    #mean center RT\n",
    "    predictors['rt'] = predictors['rt'] - predictors['rt'].mean()\n",
    "\n",
    "    #Z-score trial index for each row\n",
    "    for i in range(1,num_runs+1):\n",
    "        run = 'run' + str(i)\n",
    "        predictors.loc[predictors['run']==run,'trial_index'] =  predictors.loc[predictors['run']==run,'trial_index'] - \\\n",
    "        predictors.loc[predictors['run']==run,'trial_index'].mean()\n",
    "        predictors.loc[predictors['run']==run,'trial_index'] =  predictors.loc[predictors['run']==run,'trial_index'] / \\\n",
    "        predictors.loc[predictors['run']==run,'trial_index'].std()\n",
    "    \n",
    "    return predictors"
   ]
  },
  {
   "cell_type": "code",
   "execution_count": 200,
   "metadata": {
    "collapsed": false
   },
   "outputs": [],
   "source": [
    "##returns loss for linear regression\n",
    "def regress(params,predictors,num_runs,exp):\n",
    "    \n",
    "    alpha = params[0] #learning rate\n",
    "    beta = params[1:]\n",
    "    \n",
    "    ##perform RL for the experimental condition\n",
    "    for i in range(1,num_runs+1):\n",
    "        event_order = exp_order[exp_order['exp']==exp]\n",
    "        rew = np.array(event_order[event_order['run']==i]['rew'])\n",
    "        tt = np.array(event_order[event_order['run']==i]['trial_order'])\n",
    "        V, delta, index = perform_RL(tt,rew,alpha)\n",
    "        for key in V.keys():\n",
    "            V[key] = V[key][:-1] #last entry is for subsequent trial that doesnt exist\n",
    "            predictors.loc[(predictors['run'] == 'run' + str(i)) & (predictors['cond'] == key),'V'] = V[key]\n",
    "            predictors.loc[(predictors['run'] == 'run' + str(i)) & (predictors['cond'] == key),'PE'] = delta[key]\n",
    "\n",
    "            \n",
    "    #build RL matrixes\n",
    "    yd,Xd = patsy.dmatrices(\"rt ~ 1+trial_index+V+run\",predictors,NA_action='drop')\n",
    "    X = np.asarray(Xd)\n",
    "    y=np.array(map(float,np.asarray(yd)))\n",
    "\n",
    "    #compute prediction and loss\n",
    "    y_hat = np.dot(X,beta)\n",
    "    loss = np.linalg.norm(y - y_hat)\n",
    "    return loss"
   ]
  },
  {
   "cell_type": "code",
   "execution_count": 20,
   "metadata": {
    "collapsed": false
   },
   "outputs": [
    {
     "ename": "TypeError",
     "evalue": "build_df() takes exactly 2 arguments (1 given)",
     "output_type": "error",
     "traceback": [
      "\u001b[1;31m---------------------------------------------------------------------------\u001b[0m",
      "\u001b[1;31mTypeError\u001b[0m                                 Traceback (most recent call last)",
      "\u001b[1;32m<ipython-input-20-ad9d24288efe>\u001b[0m in \u001b[0;36m<module>\u001b[1;34m()\u001b[0m\n\u001b[1;32m----> 1\u001b[1;33m \u001b[0mpredictors\u001b[0m \u001b[1;33m=\u001b[0m \u001b[0mbuild_df\u001b[0m\u001b[1;33m(\u001b[0m\u001b[1;36m110\u001b[0m\u001b[1;33m)\u001b[0m\u001b[1;33m\u001b[0m\u001b[0m\n\u001b[0m\u001b[0;32m      2\u001b[0m \u001b[0mparams\u001b[0m \u001b[1;33m=\u001b[0m \u001b[0mnp\u001b[0m\u001b[1;33m.\u001b[0m\u001b[0mtranspose\u001b[0m\u001b[1;33m(\u001b[0m\u001b[0mnp\u001b[0m\u001b[1;33m.\u001b[0m\u001b[0mzeros\u001b[0m\u001b[1;33m(\u001b[0m\u001b[0mX\u001b[0m\u001b[1;33m.\u001b[0m\u001b[0mshape\u001b[0m\u001b[1;33m[\u001b[0m\u001b[1;36m1\u001b[0m\u001b[1;33m]\u001b[0m\u001b[1;33m+\u001b[0m\u001b[1;36m1\u001b[0m\u001b[1;33m)\u001b[0m\u001b[1;33m)\u001b[0m \u001b[1;31m#initialize parameters to 0\u001b[0m\u001b[1;33m\u001b[0m\u001b[0m\n\u001b[0;32m      3\u001b[0m \u001b[0mparams\u001b[0m \u001b[1;33m=\u001b[0m \u001b[1;33m(\u001b[0m\u001b[1;36m.1\u001b[0m\u001b[1;33m,\u001b[0m\u001b[1;36m0\u001b[0m\u001b[1;33m,\u001b[0m\u001b[1;36m0\u001b[0m\u001b[1;33m,\u001b[0m\u001b[1;36m0\u001b[0m\u001b[1;33m,\u001b[0m\u001b[1;36m0\u001b[0m\u001b[1;33m,\u001b[0m\u001b[1;36m0\u001b[0m\u001b[1;33m)\u001b[0m \u001b[1;31m#initialize parameters to 0\u001b[0m\u001b[1;33m\u001b[0m\u001b[0m\n\u001b[0;32m      4\u001b[0m \u001b[1;33m\u001b[0m\u001b[0m\n\u001b[0;32m      5\u001b[0m \u001b[0mbounds\u001b[0m \u001b[1;33m=\u001b[0m \u001b[1;33m(\u001b[0m\u001b[1;33m(\u001b[0m\u001b[1;36m0\u001b[0m\u001b[1;33m,\u001b[0m\u001b[1;36m1\u001b[0m\u001b[1;33m)\u001b[0m\u001b[1;33m,\u001b[0m\u001b[1;33m(\u001b[0m\u001b[0mNone\u001b[0m\u001b[1;33m,\u001b[0m\u001b[0mNone\u001b[0m\u001b[1;33m)\u001b[0m\u001b[1;33m,\u001b[0m\u001b[1;33m(\u001b[0m\u001b[0mNone\u001b[0m\u001b[1;33m,\u001b[0m\u001b[0mNone\u001b[0m\u001b[1;33m)\u001b[0m\u001b[1;33m,\u001b[0m\u001b[1;33m(\u001b[0m\u001b[0mNone\u001b[0m\u001b[1;33m,\u001b[0m\u001b[0mNone\u001b[0m\u001b[1;33m)\u001b[0m\u001b[1;33m,\u001b[0m\u001b[1;33m(\u001b[0m\u001b[0mNone\u001b[0m\u001b[1;33m,\u001b[0m\u001b[0mNone\u001b[0m\u001b[1;33m)\u001b[0m\u001b[1;33m,\u001b[0m\u001b[1;33m(\u001b[0m\u001b[0mNone\u001b[0m\u001b[1;33m,\u001b[0m\u001b[0mNone\u001b[0m\u001b[1;33m)\u001b[0m\u001b[1;33m)\u001b[0m\u001b[1;33m\u001b[0m\u001b[0m\n",
      "\u001b[1;31mTypeError\u001b[0m: build_df() takes exactly 2 arguments (1 given)"
     ]
    }
   ],
   "source": [
    "params = np.transpose(np.zeros(X.shape[1]+1)) #initialize parameters to 0\n",
    "params = (.1,0,0,0,0,0) #initialize parameters to 0\n",
    "\n",
    "bounds = ((0,1),(None,None),(None,None),(None,None),(None,None),(None,None))\n",
    "#res = minimize(regress, params, method='Powell',options={'disp': True})\n",
    "#res = minimize(regress, params, method='BFGS',options={'disp': True})\n",
    "#res = minimize(regress, params, method='SLSQP',bounds = bounds, options={'disp': True,'maxiter':200})\n",
    "\n",
    "#minimizer_kwargs = {\"method\": \"L-BFGS-B\",'bounds':bounds}\n",
    "#ret = basinhopping(regress, params, minimizer_kwargs=minimizer_kwargs,niter=50)\n",
    "\n",
    "\n",
    "res = minimize(regress,params,bounds=bounds, method='L-BFGS-B', options={'disp': True})"
   ]
  },
  {
   "cell_type": "code",
   "execution_count": 327,
   "metadata": {
    "collapsed": false
   },
   "outputs": [
    {
     "data": {
      "text/plain": [
       "  status: 0\n",
       " success: True\n",
       "    nfev: 714\n",
       "     fun: 1718.4515853621633\n",
       "       x: array([  5.34427168e-02,  -1.04735376e+03,  -1.16936986e+01,\n",
       "         7.56606351e+00,   7.04894734e+01,   1.17886548e+03])\n",
       " message: 'CONVERGENCE: REL_REDUCTION_OF_F_<=_FACTR*EPSMCH'\n",
       "     jac: array([-0.23917437,  0.02451088, -0.10184067, -0.02185061,  0.07646577,\n",
       "        0.01630269])\n",
       "     nit: 75"
      ]
     },
     "execution_count": 327,
     "metadata": {},
     "output_type": "execute_result"
    }
   ],
   "source": [
    "res"
   ]
  },
  {
   "cell_type": "code",
   "execution_count": 15,
   "metadata": {
    "collapsed": false
   },
   "outputs": [],
   "source": [
    "##loop through all subjects\n",
    "def run_subjects(sub):\n",
    "    sub_id = get_sub_id(sub)\n",
    "    \n",
    "    #get predictors dataframe\n",
    "    num_runs = len(np.unique(ser_rts[ser_rts['sub']==sub_id]['run']))\n",
    "    predictors = build_df(sub_id,num_runs)\n",
    "\n",
    "    #initialize\n",
    "    params = (.1,0,0,0,0,0) #initialize parameters to 0\n",
    "    bounds = ((0,1),(None,None),(None,None),(None,None),(None,None),(None,None))\n",
    "\n",
    "    #minimize\n",
    "#     res = minimize(regress,params,args=(predictors,num_runs),bounds=bounds, method='L-BFGS-B', options={'disp': True})\n",
    "    \n",
    "    return predictors"
   ]
  },
  {
   "cell_type": "code",
   "execution_count": 27,
   "metadata": {
    "collapsed": false
   },
   "outputs": [],
   "source": [
    "# pool = multiprocessing.Pool(processes=30)\n",
    "# output = pool.map(run_subjects,subjects)"
   ]
  },
  {
   "cell_type": "code",
   "execution_count": 121,
   "metadata": {
    "collapsed": false
   },
   "outputs": [
    {
     "name": "stdout",
     "output_type": "stream",
     "text": [
      "[  3.84678794e-01   5.51152531e+01   2.25771659e+01   2.41422568e+01\n",
      "   9.53527392e+00  -1.03489958e+03]\n",
      "[  3.33529795e-01   7.59497829e+01   6.06802264e+01   7.94340480e+01\n",
      "   3.14376574e+01   2.06234191e+03]\n"
     ]
    },
    {
     "data": {
      "text/plain": [
       "(array([ 2.,  1.,  2.,  4.,  4.,  4.,  6.,  2.,  1.,  2.]),\n",
       " array([-57.33210137, -44.27721909, -31.22233681, -18.16745453,\n",
       "         -5.11257225,   7.94231003,  20.99719231,  34.05207459,\n",
       "         47.10695688,  60.16183916,  73.21672144]),\n",
       " <a list of 10 Patch objects>)"
      ]
     },
     "execution_count": 121,
     "metadata": {},
     "output_type": "execute_result"
    },
    {
     "data": {
      "image/png": "[encoded data removed]",
      "text/plain": [
       "<matplotlib.figure.Figure at 0x7ff830774150>"
      ]
     },
     "metadata": {},
     "output_type": "display_data"
    }
   ],
   "source": [
    "params = []\n",
    "for n,o in enumerate(output):\n",
    "    if o.success:\n",
    "        params.append(o.x)    \n",
    "params = np.array(params)\n",
    "\n",
    "print np.mean(params, axis=0)\n",
    "print np.std(params,axis = 0)\n",
    "plt.hist(params[:,4])"
   ]
  },
  {
   "cell_type": "code",
   "execution_count": 110,
   "metadata": {
    "collapsed": false
   },
   "outputs": [
    {
     "data": {
      "text/plain": [
       "array([ -3.52411454, -13.38725855,  11.71133923,  -9.9083914 ,  24.31352455])"
      ]
     },
     "execution_count": 110,
     "metadata": {},
     "output_type": "execute_result"
    }
   ],
   "source": [
    "#double check that linear regression code works (given a fixed alpha)\n",
    "clf = linear_model.LinearRegression(fit_intercept=False)\n",
    "clf.fit(X, y)\n",
    "clf.coef_"
   ]
  },
  {
   "cell_type": "markdown",
   "metadata": {
    "collapsed": false
   },
   "source": [
    "Now try to fit all subjects' data simultaneously"
   ]
  },
  {
   "cell_type": "code",
   "execution_count": 197,
   "metadata": {
    "collapsed": false
   },
   "outputs": [],
   "source": [
    "##function for building dataframe of relevant data for each subject\n",
    "def build_df_all(num_runs, exp):\n",
    "    order_dict = order_dict_exp[exp]\n",
    "    alpha = .1\n",
    "    predictors = {'subject':[],'V':[],'PE':[],'run':[], 'cond':[], 'trial_index':[],'rt':[]}\n",
    "\n",
    "    for i in range(1,num_runs+1):\n",
    "\n",
    "        ##perform RL for the experimental condition\n",
    "        event_order = exp_order[exp_order['exp']==exp]\n",
    "        rew = np.array(event_order[event_order['run']==i]['rew'])\n",
    "        tt = np.array(event_order[event_order['run']==i]['trial_order'])\n",
    "        V, delta, index = perform_RL(tt,rew,alpha,exp)\n",
    "        for key in V.keys():\n",
    "            V[key] = V[key][:-1] #last entry is for subsequent trial that doesnt exist\n",
    "\n",
    "        for sub in subjects:\n",
    "            sub_id = get_sub_id(sub)\n",
    "    \n",
    "            #get rt data for this subject and run\n",
    "            rts = rt_dict_exp[exp]\n",
    "            rt_data = rts[(rts['sub']==sub_id) & (rts['run']==i) ]\n",
    "\n",
    "            ##update predictors dict\n",
    "            for key in V.keys():\n",
    "                if len(rt_data[rt_data['order']==order_dict[key]]['rt'].values) != 10:\n",
    "                    print len(rt_data[rt_data['order']==order_dict[key]]['rt'].values)\n",
    "                    print i\n",
    "                    print sub\n",
    "                predictors['V'].extend(V[key])\n",
    "                predictors['PE'].extend(delta[key])\n",
    "                predictors['cond'].extend([key]*len(V[key]))\n",
    "                predictors['subject'].extend([sub]*len(V[key]))\n",
    "                predictors['run'].extend(['run' + str(i)]*len(V[key]))\n",
    "                predictors['trial_index'].extend(index[key])\n",
    "                predictors['rt'].extend(rt_data[rt_data['order']==order_dict[key]]['rt'].values)\n",
    "\n",
    "    predictors = pd.DataFrame(predictors)\n",
    "    predictors = predictors.sort(['subject','run','trial_index']) #get predictors in proper order\n",
    "\n",
    "    #mean center RT\n",
    "#     predictors['rt'] = predictors['rt'] - predictors['rt'].mean()\n",
    "    \n",
    "    #Z score RT for each subject\n",
    "    for sub in subjects:\n",
    "        predictors.loc[predictors['subject']==sub,'rt'] =  predictors.loc[predictors['subject']==sub,'rt'] - \\\n",
    "        predictors.loc[predictors['subject']==sub,'rt'].mean()  \n",
    "        predictors.loc[predictors['subject']==sub,'rt'] =  predictors.loc[predictors['subject']==sub,'rt'] / \\\n",
    "        predictors.loc[predictors['subject']==sub,'rt'].std() \n",
    "        \n",
    "    #Z-score trial index for each row\n",
    "    for i in range(1,num_runs+1):\n",
    "        run = 'run' + str(i)\n",
    "        predictors.loc[predictors['run']==run,'trial_index'] =  predictors.loc[predictors['run']==run,'trial_index'] - \\\n",
    "        predictors.loc[predictors['run']==run,'trial_index'].mean()\n",
    "        predictors.loc[predictors['run']==run,'trial_index'] =  predictors.loc[predictors['run']==run,'trial_index'] / \\\n",
    "        predictors.loc[predictors['run']==run,'trial_index'].std()\n",
    "    \n",
    "    return predictors"
   ]
  },
  {
   "cell_type": "code",
   "execution_count": 198,
   "metadata": {
    "collapsed": false,
    "scrolled": true
   },
   "outputs": [],
   "source": [
    "##returns loss for linear regression\n",
    "def regress_all(params,predictors,num_runs,exp):\n",
    "    \n",
    "    alpha = params[0] #learning rate\n",
    "    beta = params[1:]\n",
    "\n",
    "    ##perform RL for the experimental condition\n",
    "    for i in range(1,num_runs+1):\n",
    "        event_order = exp_order[exp_order['exp']==exp]\n",
    "        rew = np.array(event_order[event_order['run']==i]['rew'])\n",
    "        tt = np.array(event_order[event_order['run']==i]['trial_order'])\n",
    "        V, delta, index = perform_RL(tt,rew,alpha,exp)\n",
    "        for key in V.keys():\n",
    "            V[key] = V[key][:-1] #last entry is for subsequent trial that doesnt exist \n",
    "            predictors.ix[(predictors['run'] == 'run' + str(i)) & (predictors['cond'] == key) ,'V'] = V[key]*len(subjects)\n",
    "            predictors.ix[(predictors['run'] == 'run' + str(i)) & (predictors['cond'] == key),'PE'] = delta[key]*len(subjects)\n",
    "    \n",
    "    #build RL matrixes\n",
    "    yd,Xd = patsy.dmatrices(\"rt ~ 1+trial_index+V+run\",predictors,NA_action='drop')\n",
    "    X = np.asarray(Xd)\n",
    "    y=np.array(map(float,np.asarray(yd)))\n",
    "\n",
    "    #compute prediction and loss\n",
    "    y_hat = np.dot(X,beta)\n",
    "    loss = np.linalg.norm(y - y_hat)\n",
    "    return loss\n",
    "# regress_all(params,predictors,num_runs)"
   ]
  },
  {
   "cell_type": "code",
   "execution_count": 210,
   "metadata": {
    "collapsed": false
   },
   "outputs": [],
   "source": [
    "exp = 'sim'\n",
    "params = [.1]\n",
    "params.extend(np.zeros(5))\n",
    "num_runs  = 3\n",
    "predictors = build_df_all(num_runs,exp)\n",
    "loss = regress_all(params,predictors,num_runs,exp)\n",
    "bounds = [(0,1)]\n",
    "for i in range(0,5):\n",
    "    bounds.append((None,None))\n",
    "\n",
    "#minimize\n",
    "# res = minimize(regress_all,params,args=(predictors,num_runs,exp),bounds=bounds, method='L-BFGS-B', options={'disp': True})\n",
    "minimizer_kwargs = {\"method\": \"L-BFGS-B\",'bounds':bounds,'args':(predictors,num_runs,exp)}\n",
    "ret = basinhopping(regress_all, params, minimizer_kwargs=minimizer_kwargs,niter=50)\n"
   ]
  },
  {
   "cell_type": "code",
   "execution_count": 203,
   "metadata": {
    "collapsed": false
   },
   "outputs": [
    {
     "data": {
      "text/plain": [
       "  status: 0\n",
       " success: True\n",
       "    nfev: 154\n",
       "     fun: 37.446722037604438\n",
       "       x: array([ 0.38247556,  0.3620314 ,  0.12028201,  0.15694684,  0.00446865,\n",
       "       -1.11607775])\n",
       " message: 'CONVERGENCE: REL_REDUCTION_OF_F_<=_FACTR*EPSMCH'\n",
       "     jac: array([ -6.11066753e-05,  -2.48689958e-04,  -2.03925765e-04,\n",
       "         8.17124146e-05,  -5.69855274e-04,  -1.57029945e-04])\n",
       "     nit: 17"
      ]
     },
     "execution_count": 203,
     "metadata": {},
     "output_type": "execute_result"
    }
   ],
   "source": [
    "res"
   ]
  },
  {
   "cell_type": "code",
   "execution_count": 171,
   "metadata": {
    "collapsed": false
   },
   "outputs": [
    {
     "data": {
      "text/plain": [
       "                  nfev: 7196\n",
       " minimization_failures: 0\n",
       "                   fun: 37.446722031145107\n",
       "                     x: array([ 0.38249334,  0.36203726,  0.12028474,  0.15693011,  0.00447598,\n",
       "       -1.11605044])\n",
       "               message: ['requested number of basinhopping iterations completed successfully']\n",
       "                   nit: 50"
      ]
     },
     "execution_count": 171,
     "metadata": {},
     "output_type": "execute_result"
    }
   ],
   "source": [
    "ret"
   ]
  },
  {
   "cell_type": "code",
   "execution_count": 208,
   "metadata": {
    "collapsed": false
   },
   "outputs": [
    {
     "data": {
      "text/plain": [
       "  status: 0\n",
       " success: True\n",
       "    nfev: 182\n",
       "     fun: 37.710933119262073\n",
       "       x: array([ 0.25209737,  0.16060626,  0.25796919,  0.38188396,  0.08537042,\n",
       "       -1.05208584])\n",
       " message: 'CONVERGENCE: NORM_OF_PROJECTED_GRADIENT_<=_PGTOL'\n",
       "     jac: array([  3.55271368e-06,   7.10542736e-07,  -2.84217094e-06,\n",
       "        -2.13162821e-06,   5.68434189e-06,   0.00000000e+00])\n",
       "     nit: 20"
      ]
     },
     "execution_count": 208,
     "metadata": {},
     "output_type": "execute_result"
    }
   ],
   "source": [
    "res"
   ]
  },
  {
   "cell_type": "code",
   "execution_count": 211,
   "metadata": {
    "collapsed": false
   },
   "outputs": [
    {
     "data": {
      "text/plain": [
       "                  nfev: 8344\n",
       " minimization_failures: 0\n",
       "                   fun: 37.710933119262073\n",
       "                     x: array([ 0.25209737,  0.16060626,  0.25796919,  0.38188396,  0.08537042,\n",
       "       -1.05208584])\n",
       "               message: ['requested number of basinhopping iterations completed successfully']\n",
       "                   nit: 50"
      ]
     },
     "execution_count": 211,
     "metadata": {},
     "output_type": "execute_result"
    }
   ],
   "source": [
    "ret"
   ]
  },
  {
   "cell_type": "code",
   "execution_count": null,
   "metadata": {
    "collapsed": true
   },
   "outputs": [],
   "source": []
  }
 ],
 "metadata": {
  "kernelspec": {
   "display_name": "Python 2",
   "language": "python",
   "name": "python2"
  },
  "language_info": {
   "codemirror_mode": {
    "name": "ipython",
    "version": 2
   },
   "file_extension": ".py",
   "mimetype": "text/x-python",
   "name": "python",
   "nbconvert_exporter": "python",
   "pygments_lexer": "ipython2",
   "version": "2.7.3"
  }
 },
 "nbformat": 4,
 "nbformat_minor": 0
}
