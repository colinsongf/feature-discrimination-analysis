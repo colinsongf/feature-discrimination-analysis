{
 "metadata": {
  "name": "",
  "signature": "sha256:31cd796a40e8fa43e80dd9f6fe376ed7e37014e2003a15273f90fb554c2babf6"
 },
 "nbformat": 3,
 "nbformat_minor": 0,
 "worksheets": [
  {
   "cells": [
    {
     "cell_type": "code",
     "collapsed": false,
     "input": [
      "import os\n",
      "import numpy as np\n",
      "import glob\n",
      "import csv\n",
      "import matplotlib\n",
      "import matplotlib.pyplot as plt\n",
      "import pandas as pd\n",
      "from scipy import stats, optimize\n",
      "from pandas import DataFrame, Series\n",
      "import seaborn as sns\n",
      "import random as rd\n",
      "from statsmodels.formula.api import ols\n",
      "from statsmodels.stats.anova import anova_lm\n",
      "import scipy.stats\n"
     ],
     "language": "python",
     "metadata": {},
     "outputs": [],
     "prompt_number": 1
    },
    {
     "cell_type": "code",
     "collapsed": false,
     "input": [
      "%matplotlib inline"
     ],
     "language": "python",
     "metadata": {},
     "outputs": [],
     "prompt_number": 3
    },
    {
     "cell_type": "code",
     "collapsed": false,
     "input": [
      "data_dir = '/Users/ianballard/Dropbox/fd/stimz/fmri_stims/'\n",
      "pics_dir = '/Users/ianballard/Dropbox/fd/kidLoc/stim/'\n",
      "target_dir = 'dnl@dnl.stanford.edu:/var/www/fd/pics/fmri_stims/'"
     ],
     "language": "python",
     "metadata": {},
     "outputs": [],
     "prompt_number": 9
    },
    {
     "cell_type": "code",
     "collapsed": false,
     "input": [
      "#faces\n",
      "subj_file = open(os.path.join(data_dir,'face.txt'),'r')\n",
      "subj_file = subj_file.readlines()\n",
      "subj_file = np.array(subj_file)\n",
      "subj_file = list(set(subj_file)) #remove duplicates\n",
      "for n,item in enumerate(subj_file):\n",
      "    item = item.strip('\\n')\n",
      "#     cmd = \"scp \" + pics_dir + item + ' ' + target_dir + 'face' + str(n) + '.jpg'\n",
      "#     cmd = \"cp \" + pics_dir + item + ' ' + data_dir + 'face' + str(n) + '.jpg'\n",
      "    cmd = \"cp \" + pics_dir + item + ' ' + data_dir + 'face' + str(n) + '.jpg'\n",
      "#     print cmd\n",
      "#     os.system(cmd)"
     ],
     "language": "python",
     "metadata": {},
     "outputs": [
      {
       "ename": "NameError",
       "evalue": "name 'os' is not defined",
       "output_type": "pyerr",
       "traceback": [
        "\u001b[0;31m---------------------------------------------------------------------------\u001b[0m\n\u001b[0;31mNameError\u001b[0m                                 Traceback (most recent call last)",
        "\u001b[0;32m<ipython-input-1-fc805fa84af0>\u001b[0m in \u001b[0;36m<module>\u001b[0;34m()\u001b[0m\n\u001b[1;32m      1\u001b[0m \u001b[0;31m#faces\u001b[0m\u001b[0;34m\u001b[0m\u001b[0;34m\u001b[0m\u001b[0m\n\u001b[0;32m----> 2\u001b[0;31m \u001b[0msubj_file\u001b[0m \u001b[0;34m=\u001b[0m \u001b[0mopen\u001b[0m\u001b[0;34m(\u001b[0m\u001b[0mos\u001b[0m\u001b[0;34m.\u001b[0m\u001b[0mpath\u001b[0m\u001b[0;34m.\u001b[0m\u001b[0mjoin\u001b[0m\u001b[0;34m(\u001b[0m\u001b[0mdata_dir\u001b[0m\u001b[0;34m,\u001b[0m\u001b[0;34m'face.txt'\u001b[0m\u001b[0;34m)\u001b[0m\u001b[0;34m,\u001b[0m\u001b[0;34m'r'\u001b[0m\u001b[0;34m)\u001b[0m\u001b[0;34m\u001b[0m\u001b[0m\n\u001b[0m\u001b[1;32m      3\u001b[0m \u001b[0msubj_file\u001b[0m \u001b[0;34m=\u001b[0m \u001b[0msubj_file\u001b[0m\u001b[0;34m.\u001b[0m\u001b[0mreadlines\u001b[0m\u001b[0;34m(\u001b[0m\u001b[0;34m)\u001b[0m\u001b[0;34m\u001b[0m\u001b[0m\n\u001b[1;32m      4\u001b[0m \u001b[0msubj_file\u001b[0m \u001b[0;34m=\u001b[0m \u001b[0mnp\u001b[0m\u001b[0;34m.\u001b[0m\u001b[0marray\u001b[0m\u001b[0;34m(\u001b[0m\u001b[0msubj_file\u001b[0m\u001b[0;34m)\u001b[0m\u001b[0;34m\u001b[0m\u001b[0m\n\u001b[1;32m      5\u001b[0m \u001b[0msubj_file\u001b[0m \u001b[0;34m=\u001b[0m \u001b[0mlist\u001b[0m\u001b[0;34m(\u001b[0m\u001b[0mset\u001b[0m\u001b[0;34m(\u001b[0m\u001b[0msubj_file\u001b[0m\u001b[0;34m)\u001b[0m\u001b[0;34m)\u001b[0m \u001b[0;31m#remove duplicates\u001b[0m\u001b[0;34m\u001b[0m\u001b[0m\n",
        "\u001b[0;31mNameError\u001b[0m: name 'os' is not defined"
       ]
      }
     ],
     "prompt_number": 1
    },
    {
     "cell_type": "code",
     "collapsed": false,
     "input": [
      "#faces\n",
      "subj_file = glob.glob(data_dir + '*jpg')\n",
      "for n,item in enumerate(subj_file):\n",
      "#     cmd = \"scp \" + pics_dir + item + ' ' + target_dir + 'face' + str(n) + '.jpg'\n",
      "#     cmd = \"cp \" + pics_dir + item + ' ' + data_dir + 'face' + str(n) + '.jpg'\n",
      "    cmd = \"scp \" + item + ' ' + target_dir + 'face' + str(n) + '.jpg'\n",
      "    print cmd\n",
      "    os.system(cmd)"
     ],
     "language": "python",
     "metadata": {},
     "outputs": [
      {
       "output_type": "stream",
       "stream": "stdout",
       "text": [
        "scp /Users/ianballard/Dropbox/fd/stimz/fmri_stims/face0.jpg dnl@dnl.stanford.edu:/var/www/fd/pics/fmri_stims/face0.jpg\n",
        "scp /Users/ianballard/Dropbox/fd/stimz/fmri_stims/face1.jpg dnl@dnl.stanford.edu:/var/www/fd/pics/fmri_stims/face1.jpg"
       ]
      },
      {
       "output_type": "stream",
       "stream": "stdout",
       "text": [
        "\n",
        "scp /Users/ianballard/Dropbox/fd/stimz/fmri_stims/face10.jpg dnl@dnl.stanford.edu:/var/www/fd/pics/fmri_stims/face2.jpg"
       ]
      },
      {
       "output_type": "stream",
       "stream": "stdout",
       "text": [
        "\n",
        "scp /Users/ianballard/Dropbox/fd/stimz/fmri_stims/face12.jpg dnl@dnl.stanford.edu:/var/www/fd/pics/fmri_stims/face3.jpg"
       ]
      },
      {
       "output_type": "stream",
       "stream": "stdout",
       "text": [
        "\n",
        "scp /Users/ianballard/Dropbox/fd/stimz/fmri_stims/face13.jpg dnl@dnl.stanford.edu:/var/www/fd/pics/fmri_stims/face4.jpg"
       ]
      },
      {
       "output_type": "stream",
       "stream": "stdout",
       "text": [
        "\n",
        "scp /Users/ianballard/Dropbox/fd/stimz/fmri_stims/face14.jpg dnl@dnl.stanford.edu:/var/www/fd/pics/fmri_stims/face5.jpg"
       ]
      },
      {
       "output_type": "stream",
       "stream": "stdout",
       "text": [
        "\n",
        "scp /Users/ianballard/Dropbox/fd/stimz/fmri_stims/face15.jpg dnl@dnl.stanford.edu:/var/www/fd/pics/fmri_stims/face6.jpg"
       ]
      },
      {
       "output_type": "stream",
       "stream": "stdout",
       "text": [
        "\n",
        "scp /Users/ianballard/Dropbox/fd/stimz/fmri_stims/face16.jpg dnl@dnl.stanford.edu:/var/www/fd/pics/fmri_stims/face7.jpg"
       ]
      },
      {
       "output_type": "stream",
       "stream": "stdout",
       "text": [
        "\n",
        "scp /Users/ianballard/Dropbox/fd/stimz/fmri_stims/face17.jpg dnl@dnl.stanford.edu:/var/www/fd/pics/fmri_stims/face8.jpg"
       ]
      },
      {
       "output_type": "stream",
       "stream": "stdout",
       "text": [
        "\n",
        "scp /Users/ianballard/Dropbox/fd/stimz/fmri_stims/face18.jpg dnl@dnl.stanford.edu:/var/www/fd/pics/fmri_stims/face9.jpg"
       ]
      },
      {
       "output_type": "stream",
       "stream": "stdout",
       "text": [
        "\n",
        "scp /Users/ianballard/Dropbox/fd/stimz/fmri_stims/face19.jpg dnl@dnl.stanford.edu:/var/www/fd/pics/fmri_stims/face10.jpg"
       ]
      },
      {
       "output_type": "stream",
       "stream": "stdout",
       "text": [
        "\n",
        "scp /Users/ianballard/Dropbox/fd/stimz/fmri_stims/face2.jpg dnl@dnl.stanford.edu:/var/www/fd/pics/fmri_stims/face11.jpg"
       ]
      },
      {
       "output_type": "stream",
       "stream": "stdout",
       "text": [
        "\n",
        "scp /Users/ianballard/Dropbox/fd/stimz/fmri_stims/face22.jpg dnl@dnl.stanford.edu:/var/www/fd/pics/fmri_stims/face12.jpg"
       ]
      },
      {
       "output_type": "stream",
       "stream": "stdout",
       "text": [
        "\n",
        "scp /Users/ianballard/Dropbox/fd/stimz/fmri_stims/face23.jpg dnl@dnl.stanford.edu:/var/www/fd/pics/fmri_stims/face13.jpg"
       ]
      },
      {
       "output_type": "stream",
       "stream": "stdout",
       "text": [
        "\n",
        "scp /Users/ianballard/Dropbox/fd/stimz/fmri_stims/face24.jpg dnl@dnl.stanford.edu:/var/www/fd/pics/fmri_stims/face14.jpg"
       ]
      },
      {
       "output_type": "stream",
       "stream": "stdout",
       "text": [
        "\n",
        "scp /Users/ianballard/Dropbox/fd/stimz/fmri_stims/face25.jpg dnl@dnl.stanford.edu:/var/www/fd/pics/fmri_stims/face15.jpg"
       ]
      },
      {
       "output_type": "stream",
       "stream": "stdout",
       "text": [
        "\n",
        "scp /Users/ianballard/Dropbox/fd/stimz/fmri_stims/face26.jpg dnl@dnl.stanford.edu:/var/www/fd/pics/fmri_stims/face16.jpg"
       ]
      },
      {
       "output_type": "stream",
       "stream": "stdout",
       "text": [
        "\n",
        "scp /Users/ianballard/Dropbox/fd/stimz/fmri_stims/face27.jpg dnl@dnl.stanford.edu:/var/www/fd/pics/fmri_stims/face17.jpg"
       ]
      },
      {
       "output_type": "stream",
       "stream": "stdout",
       "text": [
        "\n",
        "scp /Users/ianballard/Dropbox/fd/stimz/fmri_stims/face28.jpg dnl@dnl.stanford.edu:/var/www/fd/pics/fmri_stims/face18.jpg"
       ]
      },
      {
       "output_type": "stream",
       "stream": "stdout",
       "text": [
        "\n",
        "scp /Users/ianballard/Dropbox/fd/stimz/fmri_stims/face29.jpg dnl@dnl.stanford.edu:/var/www/fd/pics/fmri_stims/face19.jpg"
       ]
      },
      {
       "output_type": "stream",
       "stream": "stdout",
       "text": [
        "\n",
        "scp /Users/ianballard/Dropbox/fd/stimz/fmri_stims/face3.jpg dnl@dnl.stanford.edu:/var/www/fd/pics/fmri_stims/face20.jpg"
       ]
      },
      {
       "output_type": "stream",
       "stream": "stdout",
       "text": [
        "\n",
        "scp /Users/ianballard/Dropbox/fd/stimz/fmri_stims/face30.jpg dnl@dnl.stanford.edu:/var/www/fd/pics/fmri_stims/face21.jpg"
       ]
      },
      {
       "output_type": "stream",
       "stream": "stdout",
       "text": [
        "\n",
        "scp /Users/ianballard/Dropbox/fd/stimz/fmri_stims/face31.jpg dnl@dnl.stanford.edu:/var/www/fd/pics/fmri_stims/face22.jpg"
       ]
      },
      {
       "output_type": "stream",
       "stream": "stdout",
       "text": [
        "\n",
        "scp /Users/ianballard/Dropbox/fd/stimz/fmri_stims/face32.jpg dnl@dnl.stanford.edu:/var/www/fd/pics/fmri_stims/face23.jpg"
       ]
      },
      {
       "output_type": "stream",
       "stream": "stdout",
       "text": [
        "\n",
        "scp /Users/ianballard/Dropbox/fd/stimz/fmri_stims/face33.jpg dnl@dnl.stanford.edu:/var/www/fd/pics/fmri_stims/face24.jpg"
       ]
      },
      {
       "output_type": "stream",
       "stream": "stdout",
       "text": [
        "\n",
        "scp /Users/ianballard/Dropbox/fd/stimz/fmri_stims/face37.jpg dnl@dnl.stanford.edu:/var/www/fd/pics/fmri_stims/face25.jpg"
       ]
      },
      {
       "output_type": "stream",
       "stream": "stdout",
       "text": [
        "\n",
        "scp /Users/ianballard/Dropbox/fd/stimz/fmri_stims/face38.jpg dnl@dnl.stanford.edu:/var/www/fd/pics/fmri_stims/face26.jpg"
       ]
      },
      {
       "output_type": "stream",
       "stream": "stdout",
       "text": [
        "\n",
        "scp /Users/ianballard/Dropbox/fd/stimz/fmri_stims/face4.jpg dnl@dnl.stanford.edu:/var/www/fd/pics/fmri_stims/face27.jpg"
       ]
      },
      {
       "output_type": "stream",
       "stream": "stdout",
       "text": [
        "\n",
        "scp /Users/ianballard/Dropbox/fd/stimz/fmri_stims/face5.jpg dnl@dnl.stanford.edu:/var/www/fd/pics/fmri_stims/face28.jpg"
       ]
      },
      {
       "output_type": "stream",
       "stream": "stdout",
       "text": [
        "\n",
        "scp /Users/ianballard/Dropbox/fd/stimz/fmri_stims/face7.jpg dnl@dnl.stanford.edu:/var/www/fd/pics/fmri_stims/face29.jpg"
       ]
      },
      {
       "output_type": "stream",
       "stream": "stdout",
       "text": [
        "\n",
        "scp /Users/ianballard/Dropbox/fd/stimz/fmri_stims/face8.jpg dnl@dnl.stanford.edu:/var/www/fd/pics/fmri_stims/face30.jpg"
       ]
      },
      {
       "output_type": "stream",
       "stream": "stdout",
       "text": [
        "\n",
        "scp /Users/ianballard/Dropbox/fd/stimz/fmri_stims/face9.jpg dnl@dnl.stanford.edu:/var/www/fd/pics/fmri_stims/face31.jpg"
       ]
      },
      {
       "output_type": "stream",
       "stream": "stdout",
       "text": [
        "\n"
       ]
      }
     ],
     "prompt_number": 18
    },
    {
     "cell_type": "code",
     "collapsed": false,
     "input": [
      "#house\n",
      "subj_file = open(os.path.join(data_dir,'house.txt'),'r')\n",
      "subj_file = subj_file.readlines()\n",
      "subj_file = np.array(subj_file)\n",
      "subj_file = list(set(subj_file)) #remove duplicates\n",
      "for n,item in enumerate(subj_file):\n",
      "    item = item.strip('\\n')\n",
      "#     cmd = \"scp \" + pics_dir + item + ' ' + target_dir + 'house' + str(n) + '.jpg'\n",
      "    cmd = \"cp \" + pics_dir + item + ' ' + data_dir + 'house' + str(n) + '.jpg'\n",
      "    os.system(cmd)"
     ],
     "language": "python",
     "metadata": {},
     "outputs": [],
     "prompt_number": 20
    },
    {
     "cell_type": "code",
     "collapsed": false,
     "input": [
      "#houses\n",
      "subj_file = glob.glob(data_dir + 'house*jpg')\n",
      "for n,item in enumerate(subj_file):\n",
      "    cmd = \"scp \" + item + ' ' + target_dir + 'house' + str(n) + '.jpg'\n",
      "    print cmd\n",
      "    print n\n",
      "    os.system(cmd)"
     ],
     "language": "python",
     "metadata": {},
     "outputs": [
      {
       "output_type": "stream",
       "stream": "stdout",
       "text": [
        "scp /Users/ianballard/Dropbox/fd/stimz/fmri_stims/house1.jpg dnl@dnl.stanford.edu:/var/www/fd/pics/fmri_stims/house0.jpg\n",
        "0\n",
        "scp /Users/ianballard/Dropbox/fd/stimz/fmri_stims/house10.jpg dnl@dnl.stanford.edu:/var/www/fd/pics/fmri_stims/house1.jpg"
       ]
      },
      {
       "output_type": "stream",
       "stream": "stdout",
       "text": [
        "\n",
        "1\n",
        "scp /Users/ianballard/Dropbox/fd/stimz/fmri_stims/house11.jpg dnl@dnl.stanford.edu:/var/www/fd/pics/fmri_stims/house2.jpg"
       ]
      },
      {
       "output_type": "stream",
       "stream": "stdout",
       "text": [
        "\n",
        "2\n",
        "scp /Users/ianballard/Dropbox/fd/stimz/fmri_stims/house12.jpg dnl@dnl.stanford.edu:/var/www/fd/pics/fmri_stims/house3.jpg"
       ]
      },
      {
       "output_type": "stream",
       "stream": "stdout",
       "text": [
        "\n",
        "3\n",
        "scp /Users/ianballard/Dropbox/fd/stimz/fmri_stims/house13.jpg dnl@dnl.stanford.edu:/var/www/fd/pics/fmri_stims/house4.jpg"
       ]
      },
      {
       "output_type": "stream",
       "stream": "stdout",
       "text": [
        "\n",
        "4\n",
        "scp /Users/ianballard/Dropbox/fd/stimz/fmri_stims/house14.jpg dnl@dnl.stanford.edu:/var/www/fd/pics/fmri_stims/house5.jpg"
       ]
      },
      {
       "output_type": "stream",
       "stream": "stdout",
       "text": [
        "\n",
        "5\n",
        "scp /Users/ianballard/Dropbox/fd/stimz/fmri_stims/house15.jpg dnl@dnl.stanford.edu:/var/www/fd/pics/fmri_stims/house6.jpg"
       ]
      },
      {
       "output_type": "stream",
       "stream": "stdout",
       "text": [
        "\n",
        "6\n",
        "scp /Users/ianballard/Dropbox/fd/stimz/fmri_stims/house16.jpg dnl@dnl.stanford.edu:/var/www/fd/pics/fmri_stims/house7.jpg"
       ]
      },
      {
       "output_type": "stream",
       "stream": "stdout",
       "text": [
        "\n",
        "7\n",
        "scp /Users/ianballard/Dropbox/fd/stimz/fmri_stims/house17.jpg dnl@dnl.stanford.edu:/var/www/fd/pics/fmri_stims/house8.jpg"
       ]
      },
      {
       "output_type": "stream",
       "stream": "stdout",
       "text": [
        "\n",
        "8\n",
        "scp /Users/ianballard/Dropbox/fd/stimz/fmri_stims/house18.jpg dnl@dnl.stanford.edu:/var/www/fd/pics/fmri_stims/house9.jpg"
       ]
      },
      {
       "output_type": "stream",
       "stream": "stdout",
       "text": [
        "\n",
        "9\n",
        "scp /Users/ianballard/Dropbox/fd/stimz/fmri_stims/house19.jpg dnl@dnl.stanford.edu:/var/www/fd/pics/fmri_stims/house10.jpg"
       ]
      },
      {
       "output_type": "stream",
       "stream": "stdout",
       "text": [
        "\n",
        "10\n",
        "scp /Users/ianballard/Dropbox/fd/stimz/fmri_stims/house2.jpg dnl@dnl.stanford.edu:/var/www/fd/pics/fmri_stims/house11.jpg"
       ]
      },
      {
       "output_type": "stream",
       "stream": "stdout",
       "text": [
        "\n",
        "11\n",
        "scp /Users/ianballard/Dropbox/fd/stimz/fmri_stims/house22.jpg dnl@dnl.stanford.edu:/var/www/fd/pics/fmri_stims/house12.jpg"
       ]
      },
      {
       "output_type": "stream",
       "stream": "stdout",
       "text": [
        "\n",
        "12\n",
        "scp /Users/ianballard/Dropbox/fd/stimz/fmri_stims/house23.jpg dnl@dnl.stanford.edu:/var/www/fd/pics/fmri_stims/house13.jpg"
       ]
      },
      {
       "output_type": "stream",
       "stream": "stdout",
       "text": [
        "\n",
        "13\n",
        "scp /Users/ianballard/Dropbox/fd/stimz/fmri_stims/house24.jpg dnl@dnl.stanford.edu:/var/www/fd/pics/fmri_stims/house14.jpg"
       ]
      },
      {
       "output_type": "stream",
       "stream": "stdout",
       "text": [
        "\n",
        "14\n",
        "scp /Users/ianballard/Dropbox/fd/stimz/fmri_stims/house25.jpg dnl@dnl.stanford.edu:/var/www/fd/pics/fmri_stims/house15.jpg"
       ]
      },
      {
       "output_type": "stream",
       "stream": "stdout",
       "text": [
        "\n",
        "15\n",
        "scp /Users/ianballard/Dropbox/fd/stimz/fmri_stims/house26.jpg dnl@dnl.stanford.edu:/var/www/fd/pics/fmri_stims/house16.jpg"
       ]
      },
      {
       "output_type": "stream",
       "stream": "stdout",
       "text": [
        "\n",
        "16\n",
        "scp /Users/ianballard/Dropbox/fd/stimz/fmri_stims/house27.jpg dnl@dnl.stanford.edu:/var/www/fd/pics/fmri_stims/house17.jpg"
       ]
      },
      {
       "output_type": "stream",
       "stream": "stdout",
       "text": [
        "\n",
        "17\n",
        "scp /Users/ianballard/Dropbox/fd/stimz/fmri_stims/house28.jpg dnl@dnl.stanford.edu:/var/www/fd/pics/fmri_stims/house18.jpg"
       ]
      },
      {
       "output_type": "stream",
       "stream": "stdout",
       "text": [
        "\n",
        "18\n",
        "scp /Users/ianballard/Dropbox/fd/stimz/fmri_stims/house29.jpg dnl@dnl.stanford.edu:/var/www/fd/pics/fmri_stims/house19.jpg"
       ]
      },
      {
       "output_type": "stream",
       "stream": "stdout",
       "text": [
        "\n",
        "19\n",
        "scp /Users/ianballard/Dropbox/fd/stimz/fmri_stims/house3.jpg dnl@dnl.stanford.edu:/var/www/fd/pics/fmri_stims/house20.jpg"
       ]
      },
      {
       "output_type": "stream",
       "stream": "stdout",
       "text": [
        "\n",
        "20\n",
        "scp /Users/ianballard/Dropbox/fd/stimz/fmri_stims/house30.jpg dnl@dnl.stanford.edu:/var/www/fd/pics/fmri_stims/house21.jpg"
       ]
      },
      {
       "output_type": "stream",
       "stream": "stdout",
       "text": [
        "\n",
        "21\n",
        "scp /Users/ianballard/Dropbox/fd/stimz/fmri_stims/house31.jpg dnl@dnl.stanford.edu:/var/www/fd/pics/fmri_stims/house22.jpg"
       ]
      },
      {
       "output_type": "stream",
       "stream": "stdout",
       "text": [
        "\n",
        "22\n",
        "scp /Users/ianballard/Dropbox/fd/stimz/fmri_stims/house4.jpg dnl@dnl.stanford.edu:/var/www/fd/pics/fmri_stims/house23.jpg"
       ]
      },
      {
       "output_type": "stream",
       "stream": "stdout",
       "text": [
        "\n",
        "23\n",
        "scp /Users/ianballard/Dropbox/fd/stimz/fmri_stims/house5.jpg dnl@dnl.stanford.edu:/var/www/fd/pics/fmri_stims/house24.jpg"
       ]
      },
      {
       "output_type": "stream",
       "stream": "stdout",
       "text": [
        "\n",
        "24\n",
        "scp /Users/ianballard/Dropbox/fd/stimz/fmri_stims/house6.jpg dnl@dnl.stanford.edu:/var/www/fd/pics/fmri_stims/house25.jpg"
       ]
      },
      {
       "output_type": "stream",
       "stream": "stdout",
       "text": [
        "\n",
        "25\n",
        "scp /Users/ianballard/Dropbox/fd/stimz/fmri_stims/house7.jpg dnl@dnl.stanford.edu:/var/www/fd/pics/fmri_stims/house26.jpg"
       ]
      },
      {
       "output_type": "stream",
       "stream": "stdout",
       "text": [
        "\n",
        "26\n",
        "scp /Users/ianballard/Dropbox/fd/stimz/fmri_stims/house8.jpg dnl@dnl.stanford.edu:/var/www/fd/pics/fmri_stims/house27.jpg"
       ]
      },
      {
       "output_type": "stream",
       "stream": "stdout",
       "text": [
        "\n",
        "27\n",
        "scp /Users/ianballard/Dropbox/fd/stimz/fmri_stims/house9.jpg dnl@dnl.stanford.edu:/var/www/fd/pics/fmri_stims/house28.jpg"
       ]
      },
      {
       "output_type": "stream",
       "stream": "stdout",
       "text": [
        "\n",
        "28\n"
       ]
      }
     ],
     "prompt_number": 23
    },
    {
     "cell_type": "code",
     "collapsed": false,
     "input": [
      "#body\n",
      "subj_file = open(os.path.join(data_dir,'body.txt'),'r')\n",
      "subj_file = subj_file.readlines()\n",
      "subj_file = np.array(subj_file)\n",
      "subj_file = list(set(subj_file)) #remove duplicates\n",
      "for n,item in enumerate(subj_file):\n",
      "    item = item.strip('\\n')\n",
      "#     cmd = \"scp \" + pics_dir + item + ' ' + target_dir + 'body' + str(n) + '.jpg'\n",
      "    cmd = \"cp \" + pics_dir + item + ' ' + data_dir + 'body' + str(n) + '.jpg'\n",
      "\n",
      "    print n\n",
      "    os.system(cmd)"
     ],
     "language": "python",
     "metadata": {},
     "outputs": [
      {
       "output_type": "stream",
       "stream": "stdout",
       "text": [
        "0\n",
        "1\n",
        "2"
       ]
      },
      {
       "output_type": "stream",
       "stream": "stdout",
       "text": [
        "\n",
        "3\n",
        "4"
       ]
      },
      {
       "output_type": "stream",
       "stream": "stdout",
       "text": [
        "\n",
        "5\n",
        "6"
       ]
      },
      {
       "output_type": "stream",
       "stream": "stdout",
       "text": [
        "\n",
        "7\n",
        "8"
       ]
      },
      {
       "output_type": "stream",
       "stream": "stdout",
       "text": [
        "\n",
        "9\n",
        "10"
       ]
      },
      {
       "output_type": "stream",
       "stream": "stdout",
       "text": [
        "\n",
        "11\n",
        "12"
       ]
      },
      {
       "output_type": "stream",
       "stream": "stdout",
       "text": [
        "\n",
        "13\n",
        "14"
       ]
      },
      {
       "output_type": "stream",
       "stream": "stdout",
       "text": [
        "\n",
        "15\n",
        "16"
       ]
      },
      {
       "output_type": "stream",
       "stream": "stdout",
       "text": [
        "\n",
        "17\n",
        "18"
       ]
      },
      {
       "output_type": "stream",
       "stream": "stdout",
       "text": [
        "\n",
        "19\n",
        "20"
       ]
      },
      {
       "output_type": "stream",
       "stream": "stdout",
       "text": [
        "\n",
        "21\n",
        "22"
       ]
      },
      {
       "output_type": "stream",
       "stream": "stdout",
       "text": [
        "\n",
        "23\n",
        "24"
       ]
      },
      {
       "output_type": "stream",
       "stream": "stdout",
       "text": [
        "\n",
        "25\n",
        "26"
       ]
      },
      {
       "output_type": "stream",
       "stream": "stdout",
       "text": [
        "\n",
        "27\n",
        "28"
       ]
      },
      {
       "output_type": "stream",
       "stream": "stdout",
       "text": [
        "\n",
        "29\n",
        "30"
       ]
      },
      {
       "output_type": "stream",
       "stream": "stdout",
       "text": [
        "\n",
        "31\n",
        "32\n",
        "33"
       ]
      },
      {
       "output_type": "stream",
       "stream": "stdout",
       "text": [
        "\n"
       ]
      }
     ],
     "prompt_number": 24
    },
    {
     "cell_type": "code",
     "collapsed": false,
     "input": [
      "#bodies\n",
      "subj_file = glob.glob(data_dir + 'body*jpg')\n",
      "for n,item in enumerate(subj_file):\n",
      "    cmd = \"scp \" + item + ' ' + target_dir + 'body' + str(n) + '.jpg'\n",
      "    print n\n",
      "#     os.system(cmd)"
     ],
     "language": "python",
     "metadata": {},
     "outputs": [
      {
       "output_type": "stream",
       "stream": "stdout",
       "text": [
        "0\n",
        "1\n",
        "2\n",
        "3\n",
        "4\n",
        "5\n",
        "6\n",
        "7\n",
        "8\n",
        "9\n",
        "10\n",
        "11\n",
        "12\n",
        "13\n",
        "14\n",
        "15\n",
        "16\n",
        "17\n",
        "18\n",
        "19\n",
        "20\n",
        "21\n",
        "22\n",
        "23\n",
        "24\n",
        "25\n",
        "26\n",
        "27\n",
        "28\n",
        "29\n",
        "30\n",
        "31\n",
        "32\n"
       ]
      }
     ],
     "prompt_number": 26
    },
    {
     "cell_type": "code",
     "collapsed": false,
     "input": [
      "#practice\n",
      "subj_file = open(os.path.join(data_dir,'practice.txt'),'r')\n",
      "subj_file = subj_file.readlines()\n",
      "subj_file = np.array(subj_file)\n",
      "subj_file = list(set(subj_file)) #remove duplicates\n",
      "for n,item in enumerate(subj_file):\n",
      "    item = item.strip('\\n')\n",
      "    cmd = \"scp \" + pics_dir + item + ' ' + target_dir + 'practice/'\n",
      "    os.system(cmd)"
     ],
     "language": "python",
     "metadata": {},
     "outputs": [],
     "prompt_number": 33
    },
    {
     "cell_type": "code",
     "collapsed": false,
     "input": [],
     "language": "python",
     "metadata": {},
     "outputs": []
    }
   ],
   "metadata": {}
  }
 ]
}